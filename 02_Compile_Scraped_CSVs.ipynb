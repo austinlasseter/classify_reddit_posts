{
 "cells": [
  {
   "cell_type": "code",
   "execution_count": 24,
   "metadata": {
    "collapsed": true
   },
   "outputs": [],
   "source": [
    "import pandas as pd\n",
    "import os"
   ]
  },
  {
   "cell_type": "code",
   "execution_count": 25,
   "metadata": {},
   "outputs": [
    {
     "data": {
      "text/plain": [
       "(1500, 4)"
      ]
     },
     "execution_count": 25,
     "metadata": {},
     "output_type": "execute_result"
    }
   ],
   "source": [
    "dirname = os.getcwd()\n",
    "files = os.listdir(dirname + \"/data/\")\n",
    "\n",
    "COLUMN_NAMES = ['titles', 'subreddit', 'time', 'comments']\n",
    "df = pd.DataFrame(columns=COLUMN_NAMES)\n",
    "\n",
    "for file in files:\n",
    "    small_df = pd.read_csv(dirname + \"/data/\" + file)\n",
    "    df=pd.concat([df, small_df], ignore_index=True)\n",
    "df.shape"
   ]
  },
  {
   "cell_type": "code",
   "execution_count": 26,
   "metadata": {},
   "outputs": [
    {
     "data": {
      "text/html": [
       "<div>\n",
       "<style>\n",
       "    .dataframe thead tr:only-child th {\n",
       "        text-align: right;\n",
       "    }\n",
       "\n",
       "    .dataframe thead th {\n",
       "        text-align: left;\n",
       "    }\n",
       "\n",
       "    .dataframe tbody tr th {\n",
       "        vertical-align: top;\n",
       "    }\n",
       "</style>\n",
       "<table border=\"1\" class=\"dataframe\">\n",
       "  <thead>\n",
       "    <tr style=\"text-align: right;\">\n",
       "      <th></th>\n",
       "      <th>titles</th>\n",
       "      <th>subreddit</th>\n",
       "      <th>time</th>\n",
       "      <th>comments</th>\n",
       "    </tr>\n",
       "  </thead>\n",
       "  <tbody>\n",
       "    <tr>\n",
       "      <th>0</th>\n",
       "      <td>New Image from Netflix's Post-Apocalyptic Zomb...</td>\n",
       "      <td>r/movies</td>\n",
       "      <td>3 hours ago</td>\n",
       "      <td>561 comments</td>\n",
       "    </tr>\n",
       "    <tr>\n",
       "      <th>1</th>\n",
       "      <td>Pigs in a Blanket Baked Brie [OC]</td>\n",
       "      <td>r/GifRecipes</td>\n",
       "      <td>3 hours ago</td>\n",
       "      <td>336 comments</td>\n",
       "    </tr>\n",
       "    <tr>\n",
       "      <th>2</th>\n",
       "      <td>There have been 241 posts in /r/The_Donald lin...</td>\n",
       "      <td>r/RussiaLago</td>\n",
       "      <td>4 hours ago</td>\n",
       "      <td>1597 comments</td>\n",
       "    </tr>\n",
       "    <tr>\n",
       "      <th>3</th>\n",
       "      <td>Not a care in the world</td>\n",
       "      <td>r/BlackPeopleTwitter</td>\n",
       "      <td>4 hours ago</td>\n",
       "      <td>342 comments</td>\n",
       "    </tr>\n",
       "    <tr>\n",
       "      <th>4</th>\n",
       "      <td>Philadelphia DA Larry Krasner Sues Big Pharma,...</td>\n",
       "      <td>r/news</td>\n",
       "      <td>3 hours ago</td>\n",
       "      <td>345 comments</td>\n",
       "    </tr>\n",
       "  </tbody>\n",
       "</table>\n",
       "</div>"
      ],
      "text/plain": [
       "                                              titles             subreddit  \\\n",
       "0  New Image from Netflix's Post-Apocalyptic Zomb...              r/movies   \n",
       "1                  Pigs in a Blanket Baked Brie [OC]          r/GifRecipes   \n",
       "2  There have been 241 posts in /r/The_Donald lin...          r/RussiaLago   \n",
       "3                            Not a care in the world  r/BlackPeopleTwitter   \n",
       "4  Philadelphia DA Larry Krasner Sues Big Pharma,...                r/news   \n",
       "\n",
       "          time       comments  \n",
       "0  3 hours ago   561 comments  \n",
       "1  3 hours ago   336 comments  \n",
       "2  4 hours ago  1597 comments  \n",
       "3  4 hours ago   342 comments  \n",
       "4  3 hours ago   345 comments  "
      ]
     },
     "execution_count": 26,
     "metadata": {},
     "output_type": "execute_result"
    }
   ],
   "source": [
    "df.head()"
   ]
  },
  {
   "cell_type": "code",
   "execution_count": null,
   "metadata": {
    "collapsed": true
   },
   "outputs": [],
   "source": []
  }
 ],
 "metadata": {
  "kernelspec": {
   "display_name": "Python 3",
   "language": "python",
   "name": "python3"
  },
  "language_info": {
   "codemirror_mode": {
    "name": "ipython",
    "version": 3
   },
   "file_extension": ".py",
   "mimetype": "text/x-python",
   "name": "python",
   "nbconvert_exporter": "python",
   "pygments_lexer": "ipython3",
   "version": "3.6.3"
  }
 },
 "nbformat": 4,
 "nbformat_minor": 2
}
