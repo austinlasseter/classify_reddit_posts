{
 "cells": [
  {
   "cell_type": "code",
   "execution_count": 1,
   "metadata": {
    "collapsed": true
   },
   "outputs": [],
   "source": [
    "import pandas as pd\n",
    "import seaborn as sns\n",
    "import numpy as np\n",
    "import matplotlib.pyplot as plt\n",
    "%matplotlib inline\n",
    "\n",
    "from sklearn.feature_extraction.text import CountVectorizer, TfidfTransformer, TfidfVectorizer\n",
    "from sklearn.model_selection import cross_val_score\n",
    "from sklearn.metrics import classification_report\n",
    "from sklearn.naive_bayes import MultinomialNB, BernoulliNB, GaussianNB\n",
    "from sklearn.pipeline import Pipeline\n",
    "from sklearn.linear_model import LogisticRegression\n",
    "from sklearn.model_selection import train_test_split\n",
    "from sklearn import metrics\n",
    "from sklearn.metrics import classification_report,confusion_matrix,accuracy_score\n",
    "from sklearn.neighbors import KNeighborsClassifier\n",
    "from sklearn.ensemble import RandomForestClassifier, ExtraTreesClassifier, BaggingClassifier\n",
    "from sklearn.metrics import roc_auc_score\n",
    "sns.set_style(\"darkgrid\")"
   ]
  },
  {
   "cell_type": "markdown",
   "metadata": {},
   "source": [
    "#### Read in the data"
   ]
  },
  {
   "cell_type": "code",
   "execution_count": 2,
   "metadata": {
    "collapsed": true
   },
   "outputs": [],
   "source": [
    "dirname = '/Users/austinlasseter/DSI-EC-2/projects/datasets/proj_3/'\n",
    "data = pd.read_csv(dirname + 'clean_data.csv')"
   ]
  },
  {
   "cell_type": "code",
   "execution_count": 3,
   "metadata": {},
   "outputs": [
    {
     "name": "stdout",
     "output_type": "stream",
     "text": [
      "(5304, 10)\n"
     ]
    },
    {
     "data": {
      "text/html": [
       "<div>\n",
       "<style>\n",
       "    .dataframe thead tr:only-child th {\n",
       "        text-align: right;\n",
       "    }\n",
       "\n",
       "    .dataframe thead th {\n",
       "        text-align: left;\n",
       "    }\n",
       "\n",
       "    .dataframe tbody tr th {\n",
       "        vertical-align: top;\n",
       "    }\n",
       "</style>\n",
       "<table border=\"1\" class=\"dataframe\">\n",
       "  <thead>\n",
       "    <tr style=\"text-align: right;\">\n",
       "      <th></th>\n",
       "      <th>title</th>\n",
       "      <th>subreddit</th>\n",
       "      <th>comments</th>\n",
       "      <th>minutes</th>\n",
       "      <th>which_sub</th>\n",
       "      <th>AskReddit</th>\n",
       "      <th>big4</th>\n",
       "      <th>others</th>\n",
       "      <th>length</th>\n",
       "      <th>over_under</th>\n",
       "    </tr>\n",
       "  </thead>\n",
       "  <tbody>\n",
       "    <tr>\n",
       "      <th>0</th>\n",
       "      <td>\"@thebigjamesg: what kind of president doesn't...</td>\n",
       "      <td>TrumpCriticizesTrump</td>\n",
       "      <td>205</td>\n",
       "      <td>720</td>\n",
       "      <td>others</td>\n",
       "      <td>0</td>\n",
       "      <td>0</td>\n",
       "      <td>1</td>\n",
       "      <td>160</td>\n",
       "      <td>1</td>\n",
       "    </tr>\n",
       "    <tr>\n",
       "      <th>1</th>\n",
       "      <td>\"alright pinchy, my little bucket of badness, ...</td>\n",
       "      <td>lego</td>\n",
       "      <td>122</td>\n",
       "      <td>960</td>\n",
       "      <td>others</td>\n",
       "      <td>0</td>\n",
       "      <td>0</td>\n",
       "      <td>1</td>\n",
       "      <td>113</td>\n",
       "      <td>1</td>\n",
       "    </tr>\n",
       "    <tr>\n",
       "      <th>2</th>\n",
       "      <td>\"are you my dad?\"</td>\n",
       "      <td>aww</td>\n",
       "      <td>10</td>\n",
       "      <td>120</td>\n",
       "      <td>others</td>\n",
       "      <td>0</td>\n",
       "      <td>0</td>\n",
       "      <td>1</td>\n",
       "      <td>17</td>\n",
       "      <td>0</td>\n",
       "    </tr>\n",
       "    <tr>\n",
       "      <th>3</th>\n",
       "      <td>\"behold a pale horse\" book from 1991, by bill ...</td>\n",
       "      <td>CBTS_Stream</td>\n",
       "      <td>4</td>\n",
       "      <td>180</td>\n",
       "      <td>others</td>\n",
       "      <td>0</td>\n",
       "      <td>0</td>\n",
       "      <td>1</td>\n",
       "      <td>149</td>\n",
       "      <td>0</td>\n",
       "    </tr>\n",
       "    <tr>\n",
       "      <th>4</th>\n",
       "      <td>\"can i have a 5p bag with that?\". \"sorry, we o...</td>\n",
       "      <td>britishproblems</td>\n",
       "      <td>366</td>\n",
       "      <td>660</td>\n",
       "      <td>others</td>\n",
       "      <td>0</td>\n",
       "      <td>0</td>\n",
       "      <td>1</td>\n",
       "      <td>138</td>\n",
       "      <td>1</td>\n",
       "    </tr>\n",
       "  </tbody>\n",
       "</table>\n",
       "</div>"
      ],
      "text/plain": [
       "                                               title             subreddit  \\\n",
       "0  \"@thebigjamesg: what kind of president doesn't...  TrumpCriticizesTrump   \n",
       "1  \"alright pinchy, my little bucket of badness, ...                  lego   \n",
       "2                                  \"are you my dad?\"                   aww   \n",
       "3  \"behold a pale horse\" book from 1991, by bill ...           CBTS_Stream   \n",
       "4  \"can i have a 5p bag with that?\". \"sorry, we o...       britishproblems   \n",
       "\n",
       "   comments  minutes which_sub  AskReddit  big4  others  length  over_under  \n",
       "0       205      720    others          0     0       1     160           1  \n",
       "1       122      960    others          0     0       1     113           1  \n",
       "2        10      120    others          0     0       1      17           0  \n",
       "3         4      180    others          0     0       1     149           0  \n",
       "4       366      660    others          0     0       1     138           1  "
      ]
     },
     "execution_count": 3,
     "metadata": {},
     "output_type": "execute_result"
    }
   ],
   "source": [
    "# Create the outcome variable\n",
    "data['over_under']=(data['comments']>data['comments'].median()).astype(int)\n",
    "print(data.shape)\n",
    "data.head()"
   ]
  },
  {
   "cell_type": "markdown",
   "metadata": {},
   "source": [
    "#### Train-Test Split"
   ]
  },
  {
   "cell_type": "code",
   "execution_count": 4,
   "metadata": {},
   "outputs": [
    {
     "data": {
      "text/plain": [
       "(3712, 8)"
      ]
     },
     "execution_count": 4,
     "metadata": {},
     "output_type": "execute_result"
    }
   ],
   "source": [
    "# Split the training data into a further train/test split (remember, we set aside 30% earlier for final testing)\n",
    "X = data.drop(['comments', 'over_under'], axis=1)\n",
    "y = data['over_under']\n",
    "X_train, X_test, y_train, y_test = train_test_split(X, y, test_size = .3, random_state=42)\n",
    "X_train.shape # Notice the number of rows in the training set. This should stay constant."
   ]
  },
  {
   "cell_type": "code",
   "execution_count": 5,
   "metadata": {},
   "outputs": [
    {
     "data": {
      "text/html": [
       "<div>\n",
       "<style>\n",
       "    .dataframe thead tr:only-child th {\n",
       "        text-align: right;\n",
       "    }\n",
       "\n",
       "    .dataframe thead th {\n",
       "        text-align: left;\n",
       "    }\n",
       "\n",
       "    .dataframe tbody tr th {\n",
       "        vertical-align: top;\n",
       "    }\n",
       "</style>\n",
       "<table border=\"1\" class=\"dataframe\">\n",
       "  <thead>\n",
       "    <tr style=\"text-align: right;\">\n",
       "      <th></th>\n",
       "      <th>title</th>\n",
       "      <th>subreddit</th>\n",
       "      <th>minutes</th>\n",
       "      <th>which_sub</th>\n",
       "      <th>AskReddit</th>\n",
       "      <th>big4</th>\n",
       "      <th>others</th>\n",
       "      <th>length</th>\n",
       "    </tr>\n",
       "  </thead>\n",
       "  <tbody>\n",
       "    <tr>\n",
       "      <th>530</th>\n",
       "      <td>baby kulu-ya-ku , by me :3</td>\n",
       "      <td>MonsterHunter</td>\n",
       "      <td>480</td>\n",
       "      <td>others</td>\n",
       "      <td>0</td>\n",
       "      <td>0</td>\n",
       "      <td>1</td>\n",
       "      <td>26</td>\n",
       "    </tr>\n",
       "    <tr>\n",
       "      <th>3527</th>\n",
       "      <td>so this guy payed my friend to get my number.....</td>\n",
       "      <td>niceguys</td>\n",
       "      <td>1020</td>\n",
       "      <td>others</td>\n",
       "      <td>0</td>\n",
       "      <td>0</td>\n",
       "      <td>1</td>\n",
       "      <td>61</td>\n",
       "    </tr>\n",
       "    <tr>\n",
       "      <th>3165</th>\n",
       "      <td>pretty minging</td>\n",
       "      <td>ScottishPeopleTwitter</td>\n",
       "      <td>300</td>\n",
       "      <td>others</td>\n",
       "      <td>0</td>\n",
       "      <td>0</td>\n",
       "      <td>1</td>\n",
       "      <td>14</td>\n",
       "    </tr>\n",
       "  </tbody>\n",
       "</table>\n",
       "</div>"
      ],
      "text/plain": [
       "                                                  title  \\\n",
       "530                          baby kulu-ya-ku , by me :3   \n",
       "3527  so this guy payed my friend to get my number.....   \n",
       "3165                                     pretty minging   \n",
       "\n",
       "                  subreddit  minutes which_sub  AskReddit  big4  others  \\\n",
       "530           MonsterHunter      480    others          0     0       1   \n",
       "3527               niceguys     1020    others          0     0       1   \n",
       "3165  ScottishPeopleTwitter      300    others          0     0       1   \n",
       "\n",
       "      length  \n",
       "530       26  \n",
       "3527      61  \n",
       "3165      14  "
      ]
     },
     "execution_count": 5,
     "metadata": {},
     "output_type": "execute_result"
    }
   ],
   "source": [
    "X_test.head(3)"
   ]
  },
  {
   "cell_type": "markdown",
   "metadata": {},
   "source": [
    "## Count Vectorizer on `Title`"
   ]
  },
  {
   "cell_type": "code",
   "execution_count": 6,
   "metadata": {
    "collapsed": true
   },
   "outputs": [],
   "source": [
    "# Initialize a standard CountVectorizer and fit the training data.\n",
    "cvec = CountVectorizer(stop_words='english', max_features=1000)\n",
    "cvec.fit(X_train['title']);\n",
    "cvecdata = cvec.transform(X_train['title'])\n",
    "cvec_title  = pd.DataFrame(cvecdata.todense(),\n",
    "             columns=cvec.get_feature_names(), \n",
    "                          index=X_train.index) # hat tip to Shaver for this last line, it was a life-saver."
   ]
  },
  {
   "cell_type": "code",
   "execution_count": 7,
   "metadata": {},
   "outputs": [
    {
     "data": {
      "text/plain": [
       "(3712, 1000)"
      ]
     },
     "execution_count": 7,
     "metadata": {},
     "output_type": "execute_result"
    }
   ],
   "source": [
    "# What is the shape of that dataframe?\n",
    "cvec_title.shape "
   ]
  },
  {
   "cell_type": "code",
   "execution_count": 8,
   "metadata": {},
   "outputs": [
    {
     "data": {
      "text/html": [
       "<div>\n",
       "<style>\n",
       "    .dataframe thead tr:only-child th {\n",
       "        text-align: right;\n",
       "    }\n",
       "\n",
       "    .dataframe thead th {\n",
       "        text-align: left;\n",
       "    }\n",
       "\n",
       "    .dataframe tbody tr th {\n",
       "        vertical-align: top;\n",
       "    }\n",
       "</style>\n",
       "<table border=\"1\" class=\"dataframe\">\n",
       "  <thead>\n",
       "    <tr style=\"text-align: right;\">\n",
       "      <th></th>\n",
       "      <th>000</th>\n",
       "      <th>10</th>\n",
       "      <th>100</th>\n",
       "      <th>12</th>\n",
       "      <th>15</th>\n",
       "      <th>17</th>\n",
       "      <th>18</th>\n",
       "      <th>1983</th>\n",
       "      <th>1985</th>\n",
       "      <th>1991</th>\n",
       "      <th>...</th>\n",
       "      <th>yeah</th>\n",
       "      <th>year</th>\n",
       "      <th>years</th>\n",
       "      <th>yes</th>\n",
       "      <th>yesterday</th>\n",
       "      <th>york</th>\n",
       "      <th>yosemite</th>\n",
       "      <th>young</th>\n",
       "      <th>youtube</th>\n",
       "      <th>zoo</th>\n",
       "    </tr>\n",
       "  </thead>\n",
       "  <tbody>\n",
       "    <tr>\n",
       "      <th>1672</th>\n",
       "      <td>0</td>\n",
       "      <td>0</td>\n",
       "      <td>0</td>\n",
       "      <td>0</td>\n",
       "      <td>0</td>\n",
       "      <td>0</td>\n",
       "      <td>0</td>\n",
       "      <td>0</td>\n",
       "      <td>0</td>\n",
       "      <td>0</td>\n",
       "      <td>...</td>\n",
       "      <td>0</td>\n",
       "      <td>0</td>\n",
       "      <td>0</td>\n",
       "      <td>0</td>\n",
       "      <td>0</td>\n",
       "      <td>0</td>\n",
       "      <td>0</td>\n",
       "      <td>0</td>\n",
       "      <td>0</td>\n",
       "      <td>0</td>\n",
       "    </tr>\n",
       "    <tr>\n",
       "      <th>330</th>\n",
       "      <td>0</td>\n",
       "      <td>0</td>\n",
       "      <td>0</td>\n",
       "      <td>0</td>\n",
       "      <td>0</td>\n",
       "      <td>0</td>\n",
       "      <td>0</td>\n",
       "      <td>0</td>\n",
       "      <td>0</td>\n",
       "      <td>0</td>\n",
       "      <td>...</td>\n",
       "      <td>0</td>\n",
       "      <td>0</td>\n",
       "      <td>0</td>\n",
       "      <td>0</td>\n",
       "      <td>0</td>\n",
       "      <td>0</td>\n",
       "      <td>0</td>\n",
       "      <td>0</td>\n",
       "      <td>0</td>\n",
       "      <td>0</td>\n",
       "    </tr>\n",
       "    <tr>\n",
       "      <th>3555</th>\n",
       "      <td>0</td>\n",
       "      <td>0</td>\n",
       "      <td>0</td>\n",
       "      <td>0</td>\n",
       "      <td>0</td>\n",
       "      <td>0</td>\n",
       "      <td>0</td>\n",
       "      <td>0</td>\n",
       "      <td>0</td>\n",
       "      <td>0</td>\n",
       "      <td>...</td>\n",
       "      <td>0</td>\n",
       "      <td>0</td>\n",
       "      <td>0</td>\n",
       "      <td>0</td>\n",
       "      <td>0</td>\n",
       "      <td>0</td>\n",
       "      <td>0</td>\n",
       "      <td>0</td>\n",
       "      <td>0</td>\n",
       "      <td>0</td>\n",
       "    </tr>\n",
       "  </tbody>\n",
       "</table>\n",
       "<p>3 rows × 1000 columns</p>\n",
       "</div>"
      ],
      "text/plain": [
       "      000  10  100  12  15  17  18  1983  1985  1991 ...   yeah  year  years  \\\n",
       "1672    0   0    0   0   0   0   0     0     0     0 ...      0     0      0   \n",
       "330     0   0    0   0   0   0   0     0     0     0 ...      0     0      0   \n",
       "3555    0   0    0   0   0   0   0     0     0     0 ...      0     0      0   \n",
       "\n",
       "      yes  yesterday  york  yosemite  young  youtube  zoo  \n",
       "1672    0          0     0         0      0        0    0  \n",
       "330     0          0     0         0      0        0    0  \n",
       "3555    0          0     0         0      0        0    0  \n",
       "\n",
       "[3 rows x 1000 columns]"
      ]
     },
     "execution_count": 8,
     "metadata": {},
     "output_type": "execute_result"
    }
   ],
   "source": [
    "# Check out that matrix\n",
    "cvec_title.head(3)"
   ]
  },
  {
   "cell_type": "markdown",
   "metadata": {},
   "source": [
    "### Check out the most commonly used words (this is purely exploratory & doesn't affect my model)"
   ]
  },
  {
   "cell_type": "code",
   "execution_count": 9,
   "metadata": {},
   "outputs": [
    {
     "name": "stdout",
     "output_type": "stream",
     "text": [
      "count    1000.00000\n",
      "mean       10.06800\n",
      "std         9.63609\n",
      "min         4.00000\n",
      "25%         5.00000\n",
      "50%         7.00000\n",
      "75%        11.00000\n",
      "max       112.00000\n",
      "dtype: float64\n"
     ]
    }
   ],
   "source": [
    "# Because we set max_feature=1000, these are the 1000 most commonly used words. About half get 6+ appearances.\n",
    "common=cvec_title.sum()\n",
    "print(common.describe())"
   ]
  },
  {
   "cell_type": "code",
   "execution_count": 10,
   "metadata": {},
   "outputs": [
    {
     "data": {
      "text/plain": [
       "just      112\n",
       "like       84\n",
       "new        79\n",
       "day        74\n",
       "time       73\n",
       "people     69\n",
       "til        65\n",
       "game       57\n",
       "today      57\n",
       "don        54\n",
       "man        52\n",
       "old        50\n",
       "life       50\n",
       "oc         48\n",
       "got        47\n",
       "dtype: int64"
      ]
     },
     "execution_count": 10,
     "metadata": {},
     "output_type": "execute_result"
    }
   ],
   "source": [
    "# List the 15 most commonly used words.\n",
    "common.sort_values(ascending=False).head(15) "
   ]
  },
  {
   "cell_type": "code",
   "execution_count": 11,
   "metadata": {},
   "outputs": [
    {
     "data": {
      "image/png": "[encoded data removed]",
      "text/plain": [
       "<matplotlib.figure.Figure at 0x1a1072cef0>"
      ]
     },
     "metadata": {},
     "output_type": "display_data"
    }
   ],
   "source": [
    "#  Here's the distribution of the common words (>5 times)\n",
    "fig = plt.figure(figsize=(12,5))\n",
    "ax=sns.distplot(common[common>5]);\n",
    "ax.set(ylabel='Distribution', xlabel='Number of times a word shows up', title='Almost all words < 10 times.');"
   ]
  },
  {
   "cell_type": "markdown",
   "metadata": {},
   "source": [
    "## Combine the vectorized `title` with my other feature columns"
   ]
  },
  {
   "cell_type": "markdown",
   "metadata": {},
   "source": [
    "#### Transform the training data "
   ]
  },
  {
   "cell_type": "code",
   "execution_count": 12,
   "metadata": {},
   "outputs": [
    {
     "name": "stdout",
     "output_type": "stream",
     "text": [
      "(3712, 8)\n"
     ]
    },
    {
     "data": {
      "text/html": [
       "<div>\n",
       "<style>\n",
       "    .dataframe thead tr:only-child th {\n",
       "        text-align: right;\n",
       "    }\n",
       "\n",
       "    .dataframe thead th {\n",
       "        text-align: left;\n",
       "    }\n",
       "\n",
       "    .dataframe tbody tr th {\n",
       "        vertical-align: top;\n",
       "    }\n",
       "</style>\n",
       "<table border=\"1\" class=\"dataframe\">\n",
       "  <thead>\n",
       "    <tr style=\"text-align: right;\">\n",
       "      <th></th>\n",
       "      <th>title</th>\n",
       "      <th>subreddit</th>\n",
       "      <th>minutes</th>\n",
       "      <th>which_sub</th>\n",
       "      <th>AskReddit</th>\n",
       "      <th>big4</th>\n",
       "      <th>others</th>\n",
       "      <th>length</th>\n",
       "    </tr>\n",
       "  </thead>\n",
       "  <tbody>\n",
       "    <tr>\n",
       "      <th>1672</th>\n",
       "      <td>how do you piss of a female archeologist?</td>\n",
       "      <td>Jokes</td>\n",
       "      <td>300</td>\n",
       "      <td>others</td>\n",
       "      <td>0</td>\n",
       "      <td>0</td>\n",
       "      <td>1</td>\n",
       "      <td>41</td>\n",
       "    </tr>\n",
       "    <tr>\n",
       "      <th>330</th>\n",
       "      <td>after mass shooting, school threats in miami s...</td>\n",
       "      <td>news</td>\n",
       "      <td>840</td>\n",
       "      <td>big4</td>\n",
       "      <td>0</td>\n",
       "      <td>1</td>\n",
       "      <td>0</td>\n",
       "      <td>82</td>\n",
       "    </tr>\n",
       "    <tr>\n",
       "      <th>3555</th>\n",
       "      <td>someone on my facebook feed found the portal t...</td>\n",
       "      <td>pics</td>\n",
       "      <td>600</td>\n",
       "      <td>big4</td>\n",
       "      <td>0</td>\n",
       "      <td>1</td>\n",
       "      <td>0</td>\n",
       "      <td>73</td>\n",
       "    </tr>\n",
       "  </tbody>\n",
       "</table>\n",
       "</div>"
      ],
      "text/plain": [
       "                                                  title subreddit  minutes  \\\n",
       "1672          how do you piss of a female archeologist?     Jokes      300   \n",
       "330   after mass shooting, school threats in miami s...      news      840   \n",
       "3555  someone on my facebook feed found the portal t...      pics      600   \n",
       "\n",
       "     which_sub  AskReddit  big4  others  length  \n",
       "1672    others          0     0       1      41  \n",
       "330       big4          0     1       0      82  \n",
       "3555      big4          0     1       0      73  "
      ]
     },
     "execution_count": 12,
     "metadata": {},
     "output_type": "execute_result"
    }
   ],
   "source": [
    "print(X_train.shape)\n",
    "X_train.head(3)"
   ]
  },
  {
   "cell_type": "code",
   "execution_count": 13,
   "metadata": {
    "collapsed": true
   },
   "outputs": [],
   "source": [
    "# Drop the variables I don't need anymore.\n",
    "X_train_short=X_train.drop(['title', 'subreddit', 'which_sub', 'others'], axis=1)"
   ]
  },
  {
   "cell_type": "code",
   "execution_count": 14,
   "metadata": {},
   "outputs": [
    {
     "name": "stdout",
     "output_type": "stream",
     "text": [
      "(3712, 4)\n",
      "(3712, 1000)\n"
     ]
    }
   ],
   "source": [
    "# Confirm that the two df's I'm about to merge have the same number of rows\n",
    "print(X_train_short.shape)\n",
    "print(cvec_title.shape)"
   ]
  },
  {
   "cell_type": "markdown",
   "metadata": {},
   "source": [
    "#### Merge back in the non-text features."
   ]
  },
  {
   "cell_type": "code",
   "execution_count": 15,
   "metadata": {},
   "outputs": [
    {
     "name": "stdout",
     "output_type": "stream",
     "text": [
      "(3712, 1004)\n",
      "(3712, 1004)\n"
     ]
    }
   ],
   "source": [
    "# Merge the datasets back together\n",
    "X_train_cvec=pd.merge(X_train_short, cvec_title, right_index=True, left_index=True)\n",
    "print(X_train_cvec.shape) # It's important to confirm that the resulting dataset has the correct # of rows.\n",
    "# By the way, you also get exactly the same results if you use pd.concat.\n",
    "X_train_cvec2=pd.concat([X_train_short, cvec_title], axis=1)\n",
    "print(X_train_cvec2.shape) \n",
    "# This step caused me a lot of trouble, until Ben shared the line about setting the index in the Vectorizer."
   ]
  },
  {
   "cell_type": "markdown",
   "metadata": {},
   "source": [
    "#### Transform the test data and predict using the trained KNN model"
   ]
  },
  {
   "cell_type": "code",
   "execution_count": 16,
   "metadata": {
    "collapsed": true
   },
   "outputs": [],
   "source": [
    "# transform my test data the same way I transformed my train data\n",
    "vectorizers_test = cvec.transform(X_test['title']) "
   ]
  },
  {
   "cell_type": "code",
   "execution_count": 17,
   "metadata": {
    "collapsed": true
   },
   "outputs": [],
   "source": [
    "# convert the vectorized test data into a pandas dataframe\n",
    "cvec_test = pd.DataFrame(vectorizers_test.todense(),\n",
    "                         columns=cvec.get_feature_names(),\n",
    "                         index=X_test.index) "
   ]
  },
  {
   "cell_type": "markdown",
   "metadata": {},
   "source": [
    "#### Merge back in the non-text features."
   ]
  },
  {
   "cell_type": "code",
   "execution_count": 18,
   "metadata": {
    "collapsed": true
   },
   "outputs": [],
   "source": [
    "# Drop the variables I don't need, prior to merging.\n",
    "X_test_short=X_test.drop(['title', 'subreddit', 'which_sub', 'others'], axis=1)"
   ]
  },
  {
   "cell_type": "code",
   "execution_count": 19,
   "metadata": {
    "collapsed": true
   },
   "outputs": [],
   "source": [
    "# Merge.\n",
    "X_test_cvec=pd.merge(X_test_short, cvec_test, right_index=True, left_index=True)"
   ]
  },
  {
   "cell_type": "code",
   "execution_count": 20,
   "metadata": {},
   "outputs": [
    {
     "name": "stdout",
     "output_type": "stream",
     "text": [
      "(1592, 8)\n",
      "(1592,)\n",
      "(1592, 1000)\n",
      "(1592, 1004)\n"
     ]
    }
   ],
   "source": [
    "# I expect these 4 dataframes to have the same number of rows, before and after the merge.\n",
    "print(X_test.shape)\n",
    "print(y_test.shape)\n",
    "print(cvec_test.shape)\n",
    "print(X_test_cvec.shape)"
   ]
  },
  {
   "cell_type": "markdown",
   "metadata": {
    "collapsed": true
   },
   "source": [
    "# Model 1. KNN classifier "
   ]
  },
  {
   "cell_type": "markdown",
   "metadata": {},
   "source": [
    "#### fit on the training, predict on the testing data"
   ]
  },
  {
   "cell_type": "code",
   "execution_count": 21,
   "metadata": {
    "collapsed": true
   },
   "outputs": [],
   "source": [
    "# train the model\n",
    "neighs = KNeighborsClassifier(n_neighbors=7)\n",
    "knn_model = neighs.fit(X_train_cvec, y_train)"
   ]
  },
  {
   "cell_type": "code",
   "execution_count": 22,
   "metadata": {},
   "outputs": [
    {
     "data": {
      "text/plain": [
       "(0.60479523519693934, 0.0089142829417753946)"
      ]
     },
     "execution_count": 22,
     "metadata": {},
     "output_type": "execute_result"
    }
   ],
   "source": [
    "# The crossvalidiation score scores our performance on the training data. \n",
    "scores = cross_val_score(knn_model, X_train_cvec, y_train, cv=5)\n",
    "np.mean(scores), np.std(scores) # This is the mean of the 5 cv scores, plus its standard dev."
   ]
  },
  {
   "cell_type": "code",
   "execution_count": 23,
   "metadata": {
    "collapsed": true
   },
   "outputs": [],
   "source": [
    "# Predict the y values on the testing data.\n",
    "y_hat = knn_model.predict(X_test_cvec)"
   ]
  },
  {
   "cell_type": "markdown",
   "metadata": {},
   "source": [
    "#### Score my model"
   ]
  },
  {
   "cell_type": "code",
   "execution_count": 24,
   "metadata": {
    "collapsed": true
   },
   "outputs": [],
   "source": [
    "# Set up some empty lists, so we can compare our models at the end\n",
    "acc=[]\n",
    "sens=[]\n",
    "spec=[]\n",
    "roc=[]"
   ]
  },
  {
   "cell_type": "code",
   "execution_count": 25,
   "metadata": {},
   "outputs": [
    {
     "name": "stdout",
     "output_type": "stream",
     "text": [
      "60.1130653266\n",
      "60.1130653266\n"
     ]
    }
   ],
   "source": [
    "# There are two different ways to get the accuracy score, which is our primary metric:\n",
    "modscore=100*(knn_model.score(X_test_cvec, y_test))\n",
    "accuracy=100*metrics.accuracy_score(y_test, y_hat)\n",
    "acc.append(accuracy)\n",
    "print(modscore)\n",
    "print(accuracy)"
   ]
  },
  {
   "cell_type": "code",
   "execution_count": 26,
   "metadata": {},
   "outputs": [
    {
     "name": "stdout",
     "output_type": "stream",
     "text": [
      "[[478 317]\n",
      " [318 479]]\n"
     ]
    }
   ],
   "source": [
    "# A confusion matrix tells us our false positives and false negatives:\n",
    "mat = confusion_matrix(y_test, y_hat)\n",
    "print (mat)"
   ]
  },
  {
   "cell_type": "code",
   "execution_count": 27,
   "metadata": {},
   "outputs": [
    {
     "name": "stdout",
     "output_type": "stream",
     "text": [
      "sensitivity: 60.1003764115\n",
      "specificity: 60.1257861635\n"
     ]
    }
   ],
   "source": [
    "# Let's interpret that.\n",
    "tn, fp, fn, tp = mat.ravel()\n",
    "sensitivity = 100*tp/(tp+fn)\n",
    "specificity=100*tn/(tn+fp)\n",
    "sens.append(sensitivity)\n",
    "spec.append(specificity)\n",
    "\n",
    "print('sensitivity:', sensitivity)\n",
    "print('specificity:', specificity)"
   ]
  },
  {
   "cell_type": "code",
   "execution_count": 28,
   "metadata": {},
   "outputs": [
    {
     "name": "stdout",
     "output_type": "stream",
     "text": [
      "60.1130812875\n"
     ]
    }
   ],
   "source": [
    "# Our ROC-AUC score measures the trade-off between specificity and sensitivity\n",
    "roc_score=100*roc_auc_score(y_test, y_hat)\n",
    "roc.append(roc_score)\n",
    "print(roc_score)\n",
    "# However, because we don't have imbalanced classes, it's not absolutely essential."
   ]
  },
  {
   "cell_type": "markdown",
   "metadata": {},
   "source": [
    "# Model 2. Logistic regression"
   ]
  },
  {
   "cell_type": "markdown",
   "metadata": {},
   "source": [
    "#### fit on the training, predict on the testing data"
   ]
  },
  {
   "cell_type": "code",
   "execution_count": 29,
   "metadata": {
    "collapsed": true
   },
   "outputs": [],
   "source": [
    "logit = LogisticRegression()\n",
    "log_model=logit.fit(X_train_cvec, y_train)"
   ]
  },
  {
   "cell_type": "code",
   "execution_count": 30,
   "metadata": {},
   "outputs": [
    {
     "data": {
      "text/plain": [
       "(0.63631858099295724, 0.010466018656449369)"
      ]
     },
     "execution_count": 30,
     "metadata": {},
     "output_type": "execute_result"
    }
   ],
   "source": [
    "# The crossvalidiation score scores our performance on the training data. \n",
    "scores = cross_val_score(log_model, X_train_cvec, y_train, cv=5)\n",
    "np.mean(scores), np.std(scores) # This is the mean of the 5 cv scores, plus its standard dev."
   ]
  },
  {
   "cell_type": "code",
   "execution_count": 31,
   "metadata": {
    "collapsed": true
   },
   "outputs": [],
   "source": [
    "# Predict the y values on the testing data.\n",
    "y_hat = log_model.predict(X_test_cvec)"
   ]
  },
  {
   "cell_type": "markdown",
   "metadata": {},
   "source": [
    "#### Score my model"
   ]
  },
  {
   "cell_type": "code",
   "execution_count": 32,
   "metadata": {},
   "outputs": [
    {
     "name": "stdout",
     "output_type": "stream",
     "text": [
      "61.432160804\n"
     ]
    }
   ],
   "source": [
    "# ACCURACY\n",
    "accuracy=100*metrics.accuracy_score(y_test, y_hat)\n",
    "acc.append(accuracy)\n",
    "print(accuracy)"
   ]
  },
  {
   "cell_type": "code",
   "execution_count": 33,
   "metadata": {},
   "outputs": [
    {
     "name": "stdout",
     "output_type": "stream",
     "text": [
      "[[521 274]\n",
      " [340 457]]\n"
     ]
    }
   ],
   "source": [
    "# A confusion matrix tells us our false positives and false negatives:\n",
    "mat = confusion_matrix(y_test, y_hat)\n",
    "print (mat)"
   ]
  },
  {
   "cell_type": "code",
   "execution_count": 34,
   "metadata": {},
   "outputs": [
    {
     "name": "stdout",
     "output_type": "stream",
     "text": [
      "sensitivity: 57.3400250941\n",
      "specificity: 65.534591195\n"
     ]
    }
   ],
   "source": [
    "# Let's interpret that.\n",
    "tn, fp, fn, tp = mat.ravel()\n",
    "sensitivity = 100*tp/(tp+fn)\n",
    "specificity=100*tn/(tn+fp)\n",
    "sens.append(sensitivity)\n",
    "spec.append(specificity)\n",
    "\n",
    "print('sensitivity:', sensitivity)\n",
    "print('specificity:', specificity)"
   ]
  },
  {
   "cell_type": "code",
   "execution_count": 35,
   "metadata": {},
   "outputs": [
    {
     "name": "stdout",
     "output_type": "stream",
     "text": [
      "61.4373081445\n"
     ]
    }
   ],
   "source": [
    "# Our ROC-AUC score measures the trade-off between specificity and sensitivity\n",
    "roc_score=100*roc_auc_score(y_test, y_hat)\n",
    "roc.append(roc_score)\n",
    "print(roc_score)"
   ]
  },
  {
   "cell_type": "markdown",
   "metadata": {},
   "source": [
    "# Model 3. Random Forest Classifier"
   ]
  },
  {
   "cell_type": "markdown",
   "metadata": {},
   "source": [
    "#### fit on the training, predict on the testing data"
   ]
  },
  {
   "cell_type": "code",
   "execution_count": 36,
   "metadata": {
    "collapsed": true
   },
   "outputs": [],
   "source": [
    "dt = RandomForestClassifier()\n",
    "tree_model=dt.fit(X_train_cvec, y_train)"
   ]
  },
  {
   "cell_type": "code",
   "execution_count": 37,
   "metadata": {},
   "outputs": [
    {
     "data": {
      "text/plain": [
       "(0.59644596122076332, 0.0076758390564732517)"
      ]
     },
     "execution_count": 37,
     "metadata": {},
     "output_type": "execute_result"
    }
   ],
   "source": [
    "# The crossvalidiation score scores our performance on the training data. It's not very good.\n",
    "scores = cross_val_score(tree_model, X_train_cvec, y_train, cv=5)\n",
    "np.mean(scores), np.std(scores) # This is the mean of the 5 cv scores, plus its standard dev."
   ]
  },
  {
   "cell_type": "code",
   "execution_count": 38,
   "metadata": {
    "collapsed": true
   },
   "outputs": [],
   "source": [
    "# Predict the y values on the testing data.\n",
    "y_hat = tree_model.predict(X_test_cvec)"
   ]
  },
  {
   "cell_type": "markdown",
   "metadata": {},
   "source": [
    "#### Score my model"
   ]
  },
  {
   "cell_type": "code",
   "execution_count": 39,
   "metadata": {},
   "outputs": [
    {
     "name": "stdout",
     "output_type": "stream",
     "text": [
      "58.9824120603\n"
     ]
    }
   ],
   "source": [
    "# ACCURACY\n",
    "accuracy=100*metrics.accuracy_score(y_test, y_hat)\n",
    "acc.append(accuracy)\n",
    "print(accuracy)"
   ]
  },
  {
   "cell_type": "code",
   "execution_count": 40,
   "metadata": {},
   "outputs": [
    {
     "name": "stdout",
     "output_type": "stream",
     "text": [
      "[[502 293]\n",
      " [360 437]]\n"
     ]
    }
   ],
   "source": [
    "# A confusion matrix tells us our false positives and false negatives:\n",
    "mat = confusion_matrix(y_test, y_hat)\n",
    "print (mat)"
   ]
  },
  {
   "cell_type": "code",
   "execution_count": 41,
   "metadata": {},
   "outputs": [
    {
     "name": "stdout",
     "output_type": "stream",
     "text": [
      "sensitivity: 54.8306148055\n",
      "specificity: 63.1446540881\n"
     ]
    }
   ],
   "source": [
    "# Let's interpret that.\n",
    "tn, fp, fn, tp = mat.ravel()\n",
    "sensitivity = 100*tp/(tp+fn)\n",
    "specificity=100*tn/(tn+fp)\n",
    "sens.append(sensitivity)\n",
    "spec.append(specificity)\n",
    "\n",
    "print('sensitivity:', sensitivity)\n",
    "print('specificity:', specificity)"
   ]
  },
  {
   "cell_type": "code",
   "execution_count": 42,
   "metadata": {},
   "outputs": [
    {
     "name": "stdout",
     "output_type": "stream",
     "text": [
      "58.9876344468\n"
     ]
    }
   ],
   "source": [
    "# Our ROC-AUC score measures the trade-off between specificity and sensitivity\n",
    "roc_score=100*roc_auc_score(y_test, y_hat)\n",
    "roc.append(roc_score)\n",
    "print(roc_score)"
   ]
  },
  {
   "cell_type": "markdown",
   "metadata": {},
   "source": [
    "# Compare Models"
   ]
  },
  {
   "cell_type": "code",
   "execution_count": 43,
   "metadata": {},
   "outputs": [
    {
     "name": "stdout",
     "output_type": "stream",
     "text": [
      "[60.113065326633162, 61.4321608040201, 58.982412060301506]\n",
      "[60.100376411543287, 57.340025094102884, 54.830614805520703]\n",
      "[60.125786163522015, 65.534591194968556, 63.144654088050316]\n",
      "[60.113081287532644, 61.43730814453572, 58.987634446785506]\n"
     ]
    }
   ],
   "source": [
    "# Recap those scores for me, please.\n",
    "models=['KNN', 'Logistic', 'Random Forest']\n",
    "cols=['Model', 'Accuracy', 'Sensitivity', 'Specificity', 'ROC-AUC']\n",
    "print(acc)\n",
    "print(sens)\n",
    "print(spec)\n",
    "print(roc)"
   ]
  },
  {
   "cell_type": "code",
   "execution_count": 44,
   "metadata": {},
   "outputs": [
    {
     "data": {
      "text/html": [
       "<div>\n",
       "<style>\n",
       "    .dataframe thead tr:only-child th {\n",
       "        text-align: right;\n",
       "    }\n",
       "\n",
       "    .dataframe thead th {\n",
       "        text-align: left;\n",
       "    }\n",
       "\n",
       "    .dataframe tbody tr th {\n",
       "        vertical-align: top;\n",
       "    }\n",
       "</style>\n",
       "<table border=\"1\" class=\"dataframe\">\n",
       "  <thead>\n",
       "    <tr style=\"text-align: right;\">\n",
       "      <th></th>\n",
       "      <th>Model</th>\n",
       "      <th>Accuracy</th>\n",
       "      <th>Sensitivity</th>\n",
       "      <th>Specificity</th>\n",
       "      <th>ROC-AUC</th>\n",
       "    </tr>\n",
       "  </thead>\n",
       "  <tbody>\n",
       "    <tr>\n",
       "      <th>0</th>\n",
       "      <td>KNN</td>\n",
       "      <td>60.113065</td>\n",
       "      <td>60.100376</td>\n",
       "      <td>60.125786</td>\n",
       "      <td>60.113081</td>\n",
       "    </tr>\n",
       "    <tr>\n",
       "      <th>1</th>\n",
       "      <td>Logistic</td>\n",
       "      <td>61.432161</td>\n",
       "      <td>57.340025</td>\n",
       "      <td>65.534591</td>\n",
       "      <td>61.437308</td>\n",
       "    </tr>\n",
       "    <tr>\n",
       "      <th>2</th>\n",
       "      <td>Random Forest</td>\n",
       "      <td>58.982412</td>\n",
       "      <td>54.830615</td>\n",
       "      <td>63.144654</td>\n",
       "      <td>58.987634</td>\n",
       "    </tr>\n",
       "  </tbody>\n",
       "</table>\n",
       "</div>"
      ],
      "text/plain": [
       "           Model   Accuracy  Sensitivity  Specificity    ROC-AUC\n",
       "0            KNN  60.113065    60.100376    60.125786  60.113081\n",
       "1       Logistic  61.432161    57.340025    65.534591  61.437308\n",
       "2  Random Forest  58.982412    54.830615    63.144654  58.987634"
      ]
     },
     "execution_count": 44,
     "metadata": {},
     "output_type": "execute_result"
    }
   ],
   "source": [
    "# Show me that in a table:\n",
    "model_scores=pd.DataFrame(list(map(list, zip(models, acc, sens, spec, roc))), columns=cols)\n",
    "model_scores"
   ]
  },
  {
   "cell_type": "code",
   "execution_count": 45,
   "metadata": {},
   "outputs": [
    {
     "data": {
      "text/plain": [
       "Text(0,0.5,'Score')"
      ]
     },
     "execution_count": 45,
     "metadata": {},
     "output_type": "execute_result"
    },
    {
     "data": {
      "image/png": "[encoded data removed]",
      "text/plain": [
       "<matplotlib.figure.Figure at 0x1a1a8b3518>"
      ]
     },
     "metadata": {},
     "output_type": "display_data"
    }
   ],
   "source": [
    "# Make it pretty. \n",
    "ax = model_scores.set_index('Model').T.plot(kind='bar', legend=False, fontsize=12, figsize=(15, 7))\n",
    "ax.legend(loc=1, fontsize=18, bbox_to_anchor=(-0.1, 0.5))\n",
    "plt.xticks(rotation = 45,  fontsize=15)\n",
    "plt.title('Logistic Regression Is the Best Pick',  fontsize=19)\n",
    "plt.yticks(rotation = 0,  fontsize=15)\n",
    "plt.ylabel('Score', rotation=90,  fontsize=15)  "
   ]
  },
  {
   "cell_type": "code",
   "execution_count": 54,
   "metadata": {},
   "outputs": [],
   "source": [
    "y_hat = log_model.predict(X_test_cvec)\n",
    "probas = logit.predict_proba(X_test_cvec)"
   ]
  },
  {
   "cell_type": "code",
   "execution_count": 59,
   "metadata": {},
   "outputs": [
    {
     "name": "stdout",
     "output_type": "stream",
     "text": [
      "(1592, 2)\n",
      "(1592,)\n"
     ]
    }
   ],
   "source": [
    "print(probas.shape)\n",
    "print(y_test.shape)"
   ]
  },
  {
   "cell_type": "code",
   "execution_count": 77,
   "metadata": {},
   "outputs": [
    {
     "name": "stdout",
     "output_type": "stream",
     "text": [
      "0.99861479803\n",
      "0.00138520197015\n"
     ]
    }
   ],
   "source": [
    "print(probas.max())\n",
    "print(probas.min())"
   ]
  },
  {
   "cell_type": "code",
   "execution_count": 88,
   "metadata": {},
   "outputs": [],
   "source": [
    "# I'd like to see a comparison between my probabilities and the actual predictions.\n",
    "prob=pd.DataFrame(probas)\n",
    "compare=pd.concat([prob, y_test], axis=1)"
   ]
  },
  {
   "cell_type": "code",
   "execution_count": 85,
   "metadata": {},
   "outputs": [
    {
     "data": {
      "text/plain": [
       "2674"
      ]
     },
     "execution_count": 85,
     "metadata": {},
     "output_type": "execute_result"
    }
   ],
   "source": [
    "# But it's too long. There's an indexing problem.\n",
    "len(compare)"
   ]
  },
  {
   "cell_type": "code",
   "execution_count": null,
   "metadata": {
    "collapsed": true
   },
   "outputs": [],
   "source": []
  }
 ],
 "metadata": {
  "kernelspec": {
   "display_name": "Python 3",
   "language": "python",
   "name": "python3"
  },
  "language_info": {
   "codemirror_mode": {
    "name": "ipython",
    "version": 3
   },
   "file_extension": ".py",
   "mimetype": "text/x-python",
   "name": "python",
   "nbconvert_exporter": "python",
   "pygments_lexer": "ipython3",
   "version": "3.6.3"
  }
 },
 "nbformat": 4,
 "nbformat_minor": 2
}
