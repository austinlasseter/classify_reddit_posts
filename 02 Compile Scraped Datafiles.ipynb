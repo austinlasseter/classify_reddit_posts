{
 "cells": [
  {
   "cell_type": "code",
   "execution_count": 1,
   "metadata": {
    "collapsed": true
   },
   "outputs": [],
   "source": [
    "import pandas as pd\n",
    "import os"
   ]
  },
  {
   "cell_type": "markdown",
   "metadata": {},
   "source": [
    "## Compiling CSVs"
   ]
  },
  {
   "cell_type": "code",
   "execution_count": 2,
   "metadata": {
    "collapsed": true
   },
   "outputs": [],
   "source": [
    "# Compile all the .csv's into a single pandas dataframe\n",
    "dirname = os.getcwd()\n",
    "files = os.listdir(dirname + \"/data/\")\n",
    "\n",
    "COLUMN_NAMES = ['titles', 'subreddit', 'time', 'comments']\n",
    "df = pd.DataFrame(columns=COLUMN_NAMES)\n",
    "\n",
    "for file in files:\n",
    "    small_df = pd.read_csv(dirname + \"/data/\" + file)\n",
    "    df=pd.concat([df, small_df], ignore_index=True)\n"
   ]
  },
  {
   "cell_type": "code",
   "execution_count": 3,
   "metadata": {},
   "outputs": [
    {
     "name": "stdout",
     "output_type": "stream",
     "text": [
      "(33595, 4)\n"
     ]
    },
    {
     "data": {
      "text/html": [
       "<div>\n",
       "<style>\n",
       "    .dataframe thead tr:only-child th {\n",
       "        text-align: right;\n",
       "    }\n",
       "\n",
       "    .dataframe thead th {\n",
       "        text-align: left;\n",
       "    }\n",
       "\n",
       "    .dataframe tbody tr th {\n",
       "        vertical-align: top;\n",
       "    }\n",
       "</style>\n",
       "<table border=\"1\" class=\"dataframe\">\n",
       "  <thead>\n",
       "    <tr style=\"text-align: right;\">\n",
       "      <th></th>\n",
       "      <th>titles</th>\n",
       "      <th>subreddit</th>\n",
       "      <th>time</th>\n",
       "      <th>comments</th>\n",
       "    </tr>\n",
       "  </thead>\n",
       "  <tbody>\n",
       "    <tr>\n",
       "      <th>0</th>\n",
       "      <td>New Image from Netflix's Post-Apocalyptic Zomb...</td>\n",
       "      <td>r/movies</td>\n",
       "      <td>3 hours ago</td>\n",
       "      <td>600 comments</td>\n",
       "    </tr>\n",
       "    <tr>\n",
       "      <th>1</th>\n",
       "      <td>Philadelphia DA Larry Krasner Sues Big Pharma,...</td>\n",
       "      <td>r/news</td>\n",
       "      <td>3 hours ago</td>\n",
       "      <td>414 comments</td>\n",
       "    </tr>\n",
       "    <tr>\n",
       "      <th>2</th>\n",
       "      <td>Pigs in a Blanket Baked Brie [OC]</td>\n",
       "      <td>r/GifRecipes</td>\n",
       "      <td>3 hours ago</td>\n",
       "      <td>352 comments</td>\n",
       "    </tr>\n",
       "    <tr>\n",
       "      <th>3</th>\n",
       "      <td>There have been 241 posts in /r/The_Donald lin...</td>\n",
       "      <td>r/RussiaLago</td>\n",
       "      <td>4 hours ago</td>\n",
       "      <td>1698 comments</td>\n",
       "    </tr>\n",
       "    <tr>\n",
       "      <th>4</th>\n",
       "      <td>Not a care in the world</td>\n",
       "      <td>r/BlackPeopleTwitter</td>\n",
       "      <td>4 hours ago</td>\n",
       "      <td>360 comments</td>\n",
       "    </tr>\n",
       "  </tbody>\n",
       "</table>\n",
       "</div>"
      ],
      "text/plain": [
       "                                              titles             subreddit  \\\n",
       "0  New Image from Netflix's Post-Apocalyptic Zomb...              r/movies   \n",
       "1  Philadelphia DA Larry Krasner Sues Big Pharma,...                r/news   \n",
       "2                  Pigs in a Blanket Baked Brie [OC]          r/GifRecipes   \n",
       "3  There have been 241 posts in /r/The_Donald lin...          r/RussiaLago   \n",
       "4                            Not a care in the world  r/BlackPeopleTwitter   \n",
       "\n",
       "          time       comments  \n",
       "0  3 hours ago   600 comments  \n",
       "1  3 hours ago   414 comments  \n",
       "2  3 hours ago   352 comments  \n",
       "3  4 hours ago  1698 comments  \n",
       "4  4 hours ago   360 comments  "
      ]
     },
     "execution_count": 3,
     "metadata": {},
     "output_type": "execute_result"
    }
   ],
   "source": [
    "# inspect\n",
    "print(df.shape)\n",
    "df.head()"
   ]
  },
  {
   "cell_type": "markdown",
   "metadata": {},
   "source": [
    "## Remove duplicates"
   ]
  },
  {
   "cell_type": "code",
   "execution_count": 4,
   "metadata": {},
   "outputs": [
    {
     "data": {
      "text/html": [
       "<div>\n",
       "<style>\n",
       "    .dataframe thead tr:only-child th {\n",
       "        text-align: right;\n",
       "    }\n",
       "\n",
       "    .dataframe thead th {\n",
       "        text-align: left;\n",
       "    }\n",
       "\n",
       "    .dataframe tbody tr th {\n",
       "        vertical-align: top;\n",
       "    }\n",
       "</style>\n",
       "<table border=\"1\" class=\"dataframe\">\n",
       "  <thead>\n",
       "    <tr style=\"text-align: right;\">\n",
       "      <th></th>\n",
       "      <th>titles</th>\n",
       "      <th>subreddit</th>\n",
       "      <th>time</th>\n",
       "      <th>comments</th>\n",
       "    </tr>\n",
       "  </thead>\n",
       "  <tbody>\n",
       "    <tr>\n",
       "      <th>28986</th>\n",
       "      <td>\"@TheBigJamesG: What kind of president doesn't...</td>\n",
       "      <td>r/TrumpCriticizesTrump</td>\n",
       "      <td>12 hours ago</td>\n",
       "      <td>205 comments</td>\n",
       "    </tr>\n",
       "    <tr>\n",
       "      <th>7872</th>\n",
       "      <td>\"@TheBigJamesG: What kind of president doesn't...</td>\n",
       "      <td>r/TrumpCriticizesTrump</td>\n",
       "      <td>4 hours ago</td>\n",
       "      <td>90 comments</td>\n",
       "    </tr>\n",
       "    <tr>\n",
       "      <th>10725</th>\n",
       "      <td>\"Alright Pinchy, my little bucket of badness, ...</td>\n",
       "      <td>r/lego</td>\n",
       "      <td>16 hours ago</td>\n",
       "      <td>122 comments</td>\n",
       "    </tr>\n",
       "    <tr>\n",
       "      <th>10771</th>\n",
       "      <td>\"Alright Pinchy, my little bucket of badness, ...</td>\n",
       "      <td>r/lego</td>\n",
       "      <td>16 hours ago</td>\n",
       "      <td>122 comments</td>\n",
       "    </tr>\n",
       "    <tr>\n",
       "      <th>10818</th>\n",
       "      <td>\"Alright Pinchy, my little bucket of badness, ...</td>\n",
       "      <td>r/lego</td>\n",
       "      <td>16 hours ago</td>\n",
       "      <td>122 comments</td>\n",
       "    </tr>\n",
       "  </tbody>\n",
       "</table>\n",
       "</div>"
      ],
      "text/plain": [
       "                                                  titles  \\\n",
       "28986  \"@TheBigJamesG: What kind of president doesn't...   \n",
       "7872   \"@TheBigJamesG: What kind of president doesn't...   \n",
       "10725  \"Alright Pinchy, my little bucket of badness, ...   \n",
       "10771  \"Alright Pinchy, my little bucket of badness, ...   \n",
       "10818  \"Alright Pinchy, my little bucket of badness, ...   \n",
       "\n",
       "                    subreddit          time      comments  \n",
       "28986  r/TrumpCriticizesTrump  12 hours ago  205 comments  \n",
       "7872   r/TrumpCriticizesTrump   4 hours ago   90 comments  \n",
       "10725                  r/lego  16 hours ago  122 comments  \n",
       "10771                  r/lego  16 hours ago  122 comments  \n",
       "10818                  r/lego  16 hours ago  122 comments  "
      ]
     },
     "execution_count": 4,
     "metadata": {},
     "output_type": "execute_result"
    }
   ],
   "source": [
    "# The duplicates have different comment values and time values, for obvious reasons.\n",
    "df.sort_values(by=['titles', 'comments'],  inplace=True)\n",
    "df.head()"
   ]
  },
  {
   "cell_type": "code",
   "execution_count": 5,
   "metadata": {},
   "outputs": [
    {
     "data": {
      "text/plain": [
       "(4793, 4)"
      ]
     },
     "execution_count": 5,
     "metadata": {},
     "output_type": "execute_result"
    }
   ],
   "source": [
    "# Removing duplicates reduces the size of my dataset by about 4/5.\n",
    "df.drop_duplicates(['titles'], keep='first', inplace=True);\n",
    "df.shape"
   ]
  },
  {
   "cell_type": "code",
   "execution_count": 6,
   "metadata": {},
   "outputs": [
    {
     "data": {
      "text/html": [
       "<div>\n",
       "<style>\n",
       "    .dataframe thead tr:only-child th {\n",
       "        text-align: right;\n",
       "    }\n",
       "\n",
       "    .dataframe thead th {\n",
       "        text-align: left;\n",
       "    }\n",
       "\n",
       "    .dataframe tbody tr th {\n",
       "        vertical-align: top;\n",
       "    }\n",
       "</style>\n",
       "<table border=\"1\" class=\"dataframe\">\n",
       "  <thead>\n",
       "    <tr style=\"text-align: right;\">\n",
       "      <th></th>\n",
       "      <th>titles</th>\n",
       "      <th>subreddit</th>\n",
       "      <th>time</th>\n",
       "      <th>comments</th>\n",
       "    </tr>\n",
       "  </thead>\n",
       "  <tbody>\n",
       "    <tr>\n",
       "      <th>28986</th>\n",
       "      <td>\"@TheBigJamesG: What kind of president doesn't...</td>\n",
       "      <td>r/TrumpCriticizesTrump</td>\n",
       "      <td>12 hours ago</td>\n",
       "      <td>205 comments</td>\n",
       "    </tr>\n",
       "    <tr>\n",
       "      <th>10725</th>\n",
       "      <td>\"Alright Pinchy, my little bucket of badness, ...</td>\n",
       "      <td>r/lego</td>\n",
       "      <td>16 hours ago</td>\n",
       "      <td>122 comments</td>\n",
       "    </tr>\n",
       "    <tr>\n",
       "      <th>268</th>\n",
       "      <td>\"Are you my Dad?\"</td>\n",
       "      <td>r/aww</td>\n",
       "      <td>2 hours ago</td>\n",
       "      <td>10 comments</td>\n",
       "    </tr>\n",
       "    <tr>\n",
       "      <th>356</th>\n",
       "      <td>\"Behold a Pale Horse\" book from 1991, by Bill ...</td>\n",
       "      <td>r/CBTS_Stream</td>\n",
       "      <td>3 hours ago</td>\n",
       "      <td>4 comments</td>\n",
       "    </tr>\n",
       "    <tr>\n",
       "      <th>30543</th>\n",
       "      <td>\"Can I have a 5p bag with that?\". \"Sorry, we o...</td>\n",
       "      <td>r/britishproblems</td>\n",
       "      <td>11 hours ago</td>\n",
       "      <td>366 comments</td>\n",
       "    </tr>\n",
       "  </tbody>\n",
       "</table>\n",
       "</div>"
      ],
      "text/plain": [
       "                                                  titles  \\\n",
       "28986  \"@TheBigJamesG: What kind of president doesn't...   \n",
       "10725  \"Alright Pinchy, my little bucket of badness, ...   \n",
       "268                                    \"Are you my Dad?\"   \n",
       "356    \"Behold a Pale Horse\" book from 1991, by Bill ...   \n",
       "30543  \"Can I have a 5p bag with that?\". \"Sorry, we o...   \n",
       "\n",
       "                    subreddit          time      comments  \n",
       "28986  r/TrumpCriticizesTrump  12 hours ago  205 comments  \n",
       "10725                  r/lego  16 hours ago  122 comments  \n",
       "268                     r/aww   2 hours ago   10 comments  \n",
       "356             r/CBTS_Stream   3 hours ago    4 comments  \n",
       "30543       r/britishproblems  11 hours ago  366 comments  "
      ]
     },
     "execution_count": 6,
     "metadata": {},
     "output_type": "execute_result"
    }
   ],
   "source": [
    "# Notice that I kept the duplicate with the highest number of comments.\n",
    "df.head()"
   ]
  },
  {
   "cell_type": "markdown",
   "metadata": {},
   "source": [
    "## Data Cleaning"
   ]
  },
  {
   "cell_type": "code",
   "execution_count": 7,
   "metadata": {
    "collapsed": true
   },
   "outputs": [],
   "source": [
    "#Let's clean up some of that data.\n",
    "df['sub']= (df['subreddit'].apply(lambda x: x.split('r/'))).apply(lambda x: x[1])\n",
    "df['comments_count']= (df['comments'].apply(lambda x: x.split(' '))).apply(lambda x: x[0])\n",
    "df['comments_count']=df['comments_count'].astype(int)"
   ]
  },
  {
   "cell_type": "code",
   "execution_count": 8,
   "metadata": {
    "collapsed": true
   },
   "outputs": [],
   "source": [
    "# Break up the time variable into its parts\n",
    "df['time_string']= (df['time'].apply(lambda x: x.split(' ago'))).apply(lambda x: x[0])\n",
    "df['time_count']= (df['time_string'].apply(lambda x: x.split(' '))).apply(lambda x: x[0])\n",
    "df['time_type']= (df['time_string'].apply(lambda x: x.split(' '))).apply(lambda x: x[1])\n",
    "# Convert from string to integer\n",
    "df['time_count']=df['time_count'].astype(int)"
   ]
  },
  {
   "cell_type": "code",
   "execution_count": 9,
   "metadata": {},
   "outputs": [
    {
     "data": {
      "text/html": [
       "<div>\n",
       "<style>\n",
       "    .dataframe thead tr:only-child th {\n",
       "        text-align: right;\n",
       "    }\n",
       "\n",
       "    .dataframe thead th {\n",
       "        text-align: left;\n",
       "    }\n",
       "\n",
       "    .dataframe tbody tr th {\n",
       "        vertical-align: top;\n",
       "    }\n",
       "</style>\n",
       "<table border=\"1\" class=\"dataframe\">\n",
       "  <thead>\n",
       "    <tr style=\"text-align: right;\">\n",
       "      <th></th>\n",
       "      <th>titles</th>\n",
       "      <th>subreddit</th>\n",
       "      <th>time</th>\n",
       "      <th>comments</th>\n",
       "      <th>sub</th>\n",
       "      <th>comments_count</th>\n",
       "      <th>time_string</th>\n",
       "      <th>time_count</th>\n",
       "      <th>time_type</th>\n",
       "      <th>minutes</th>\n",
       "    </tr>\n",
       "  </thead>\n",
       "  <tbody>\n",
       "    <tr>\n",
       "      <th>661</th>\n",
       "      <td>\"Look, I'm not homeless\": A Dissection</td>\n",
       "      <td>r/rva</td>\n",
       "      <td>28 minutes ago</td>\n",
       "      <td>12 comments</td>\n",
       "      <td>rva</td>\n",
       "      <td>12</td>\n",
       "      <td>28 minutes</td>\n",
       "      <td>28</td>\n",
       "      <td>minutes</td>\n",
       "      <td>28</td>\n",
       "    </tr>\n",
       "    <tr>\n",
       "      <th>19685</th>\n",
       "      <td>A rare 7 in classic minesweeper</td>\n",
       "      <td>r/gaming</td>\n",
       "      <td>54 minutes ago</td>\n",
       "      <td>23 comments</td>\n",
       "      <td>gaming</td>\n",
       "      <td>23</td>\n",
       "      <td>54 minutes</td>\n",
       "      <td>54</td>\n",
       "      <td>minutes</td>\n",
       "      <td>54</td>\n",
       "    </tr>\n",
       "    <tr>\n",
       "      <th>5921</th>\n",
       "      <td>A sign outside CPAC where the head of the NRA ...</td>\n",
       "      <td>r/pics</td>\n",
       "      <td>54 minutes ago</td>\n",
       "      <td>96 comments</td>\n",
       "      <td>pics</td>\n",
       "      <td>96</td>\n",
       "      <td>54 minutes</td>\n",
       "      <td>54</td>\n",
       "      <td>minutes</td>\n",
       "      <td>54</td>\n",
       "    </tr>\n",
       "    <tr>\n",
       "      <th>2127</th>\n",
       "      <td>As a teacher in the U.S. this seems more real ...</td>\n",
       "      <td>r/PoliticalHumor</td>\n",
       "      <td>11 minutes ago</td>\n",
       "      <td>36 comments</td>\n",
       "      <td>PoliticalHumor</td>\n",
       "      <td>36</td>\n",
       "      <td>11 minutes</td>\n",
       "      <td>11</td>\n",
       "      <td>minutes</td>\n",
       "      <td>11</td>\n",
       "    </tr>\n",
       "    <tr>\n",
       "      <th>2129</th>\n",
       "      <td>BOY TRIXIE'S REAL EVOLUTION</td>\n",
       "      <td>r/rupaulsdragrace</td>\n",
       "      <td>15 minutes ago</td>\n",
       "      <td>19 comments</td>\n",
       "      <td>rupaulsdragrace</td>\n",
       "      <td>19</td>\n",
       "      <td>15 minutes</td>\n",
       "      <td>15</td>\n",
       "      <td>minutes</td>\n",
       "      <td>15</td>\n",
       "    </tr>\n",
       "  </tbody>\n",
       "</table>\n",
       "</div>"
      ],
      "text/plain": [
       "                                                  titles          subreddit  \\\n",
       "661               \"Look, I'm not homeless\": A Dissection              r/rva   \n",
       "19685                    A rare 7 in classic minesweeper           r/gaming   \n",
       "5921   A sign outside CPAC where the head of the NRA ...             r/pics   \n",
       "2127   As a teacher in the U.S. this seems more real ...   r/PoliticalHumor   \n",
       "2129                         BOY TRIXIE'S REAL EVOLUTION  r/rupaulsdragrace   \n",
       "\n",
       "                 time     comments              sub  comments_count  \\\n",
       "661    28 minutes ago  12 comments              rva              12   \n",
       "19685  54 minutes ago  23 comments           gaming              23   \n",
       "5921   54 minutes ago  96 comments             pics              96   \n",
       "2127   11 minutes ago  36 comments   PoliticalHumor              36   \n",
       "2129   15 minutes ago  19 comments  rupaulsdragrace              19   \n",
       "\n",
       "      time_string  time_count time_type  minutes  \n",
       "661    28 minutes          28   minutes       28  \n",
       "19685  54 minutes          54   minutes       54  \n",
       "5921   54 minutes          54   minutes       54  \n",
       "2127   11 minutes          11   minutes       11  \n",
       "2129   15 minutes          15   minutes       15  "
      ]
     },
     "execution_count": 9,
     "metadata": {},
     "output_type": "execute_result"
    }
   ],
   "source": [
    "# create a new column, called minutes.\n",
    "df['minutes']=df['time_count']\n",
    "# create a pair of arrays, with the time_count for hour/hours.\n",
    "hours=df.loc[df['time_type']=='hours', 'time_count']\n",
    "hour=df.loc[df['time_type']=='hour', 'time_count']\n",
    "# multiply that by 60 and drop it into the 'minutes' column\n",
    "df.loc[df['time_type']=='hours', 'minutes']=hours*60\n",
    "df.loc[df['time_type']=='hour', 'minutes']=hour*60\n",
    "# confirm that did what we wanted it to.\n",
    "df.loc[df['time_type']=='minutes'].head(5)"
   ]
  },
  {
   "cell_type": "code",
   "execution_count": 10,
   "metadata": {
    "collapsed": true
   },
   "outputs": [],
   "source": [
    "# keep only the four cleaned columns, and fix their names.\n",
    "cols=['title', 'subreddit', 'comments', 'minutes']\n",
    "df=df.drop(['subreddit', 'time', 'comments', 'time_string', 'time_count', 'time_type'], axis=1)\n",
    "df.columns=cols"
   ]
  },
  {
   "cell_type": "code",
   "execution_count": 11,
   "metadata": {},
   "outputs": [
    {
     "name": "stdout",
     "output_type": "stream",
     "text": [
      "(4793, 4)\n"
     ]
    },
    {
     "data": {
      "text/html": [
       "<div>\n",
       "<style>\n",
       "    .dataframe thead tr:only-child th {\n",
       "        text-align: right;\n",
       "    }\n",
       "\n",
       "    .dataframe thead th {\n",
       "        text-align: left;\n",
       "    }\n",
       "\n",
       "    .dataframe tbody tr th {\n",
       "        vertical-align: top;\n",
       "    }\n",
       "</style>\n",
       "<table border=\"1\" class=\"dataframe\">\n",
       "  <thead>\n",
       "    <tr style=\"text-align: right;\">\n",
       "      <th></th>\n",
       "      <th>title</th>\n",
       "      <th>subreddit</th>\n",
       "      <th>comments</th>\n",
       "      <th>minutes</th>\n",
       "    </tr>\n",
       "  </thead>\n",
       "  <tbody>\n",
       "    <tr>\n",
       "      <th>28986</th>\n",
       "      <td>\"@TheBigJamesG: What kind of president doesn't...</td>\n",
       "      <td>TrumpCriticizesTrump</td>\n",
       "      <td>205</td>\n",
       "      <td>720</td>\n",
       "    </tr>\n",
       "    <tr>\n",
       "      <th>10725</th>\n",
       "      <td>\"Alright Pinchy, my little bucket of badness, ...</td>\n",
       "      <td>lego</td>\n",
       "      <td>122</td>\n",
       "      <td>960</td>\n",
       "    </tr>\n",
       "    <tr>\n",
       "      <th>268</th>\n",
       "      <td>\"Are you my Dad?\"</td>\n",
       "      <td>aww</td>\n",
       "      <td>10</td>\n",
       "      <td>120</td>\n",
       "    </tr>\n",
       "    <tr>\n",
       "      <th>356</th>\n",
       "      <td>\"Behold a Pale Horse\" book from 1991, by Bill ...</td>\n",
       "      <td>CBTS_Stream</td>\n",
       "      <td>4</td>\n",
       "      <td>180</td>\n",
       "    </tr>\n",
       "    <tr>\n",
       "      <th>30543</th>\n",
       "      <td>\"Can I have a 5p bag with that?\". \"Sorry, we o...</td>\n",
       "      <td>britishproblems</td>\n",
       "      <td>366</td>\n",
       "      <td>660</td>\n",
       "    </tr>\n",
       "  </tbody>\n",
       "</table>\n",
       "</div>"
      ],
      "text/plain": [
       "                                                   title  \\\n",
       "28986  \"@TheBigJamesG: What kind of president doesn't...   \n",
       "10725  \"Alright Pinchy, my little bucket of badness, ...   \n",
       "268                                    \"Are you my Dad?\"   \n",
       "356    \"Behold a Pale Horse\" book from 1991, by Bill ...   \n",
       "30543  \"Can I have a 5p bag with that?\". \"Sorry, we o...   \n",
       "\n",
       "                  subreddit  comments  minutes  \n",
       "28986  TrumpCriticizesTrump       205      720  \n",
       "10725                  lego       122      960  \n",
       "268                     aww        10      120  \n",
       "356             CBTS_Stream         4      180  \n",
       "30543       britishproblems       366      660  "
      ]
     },
     "execution_count": 11,
     "metadata": {},
     "output_type": "execute_result"
    }
   ],
   "source": [
    "print(df.shape)\n",
    "df.head()"
   ]
  },
  {
   "cell_type": "code",
   "execution_count": 13,
   "metadata": {
    "collapsed": true
   },
   "outputs": [],
   "source": [
    "# Save the df data.\n",
    "df.to_csv('/Users/austinlasseter/DSI-EC-2/projects/project-3/data.csv', index=False)"
   ]
  },
  {
   "cell_type": "code",
   "execution_count": null,
   "metadata": {
    "collapsed": true
   },
   "outputs": [],
   "source": []
  }
 ],
 "metadata": {
  "kernelspec": {
   "display_name": "Python 3",
   "language": "python",
   "name": "python3"
  },
  "language_info": {
   "codemirror_mode": {
    "name": "ipython",
    "version": 3
   },
   "file_extension": ".py",
   "mimetype": "text/x-python",
   "name": "python",
   "nbconvert_exporter": "python",
   "pygments_lexer": "ipython3",
   "version": "3.6.3"
  }
 },
 "nbformat": 4,
 "nbformat_minor": 2
}
