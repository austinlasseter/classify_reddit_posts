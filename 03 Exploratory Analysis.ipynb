{
 "cells": [
  {
   "cell_type": "code",
   "execution_count": 1,
   "metadata": {
    "collapsed": true
   },
   "outputs": [],
   "source": [
    "import pandas as pd\n",
    "import numpy as np\n",
    "import matplotlib.pyplot as plt\n",
    "import seaborn as sns\n",
    "%matplotlib inline"
   ]
  },
  {
   "cell_type": "code",
   "execution_count": 2,
   "metadata": {},
   "outputs": [
    {
     "data": {
      "text/html": [
       "<div>\n",
       "<style>\n",
       "    .dataframe thead tr:only-child th {\n",
       "        text-align: right;\n",
       "    }\n",
       "\n",
       "    .dataframe thead th {\n",
       "        text-align: left;\n",
       "    }\n",
       "\n",
       "    .dataframe tbody tr th {\n",
       "        vertical-align: top;\n",
       "    }\n",
       "</style>\n",
       "<table border=\"1\" class=\"dataframe\">\n",
       "  <thead>\n",
       "    <tr style=\"text-align: right;\">\n",
       "      <th></th>\n",
       "      <th>title</th>\n",
       "      <th>subreddit</th>\n",
       "      <th>comments</th>\n",
       "      <th>minutes</th>\n",
       "    </tr>\n",
       "  </thead>\n",
       "  <tbody>\n",
       "    <tr>\n",
       "      <th>0</th>\n",
       "      <td>\"@TheBigJamesG: What kind of president doesn't...</td>\n",
       "      <td>TrumpCriticizesTrump</td>\n",
       "      <td>205</td>\n",
       "      <td>720</td>\n",
       "    </tr>\n",
       "    <tr>\n",
       "      <th>1</th>\n",
       "      <td>\"Alright Pinchy, my little bucket of badness, ...</td>\n",
       "      <td>lego</td>\n",
       "      <td>122</td>\n",
       "      <td>960</td>\n",
       "    </tr>\n",
       "    <tr>\n",
       "      <th>2</th>\n",
       "      <td>\"Are you my Dad?\"</td>\n",
       "      <td>aww</td>\n",
       "      <td>10</td>\n",
       "      <td>120</td>\n",
       "    </tr>\n",
       "    <tr>\n",
       "      <th>3</th>\n",
       "      <td>\"Behold a Pale Horse\" book from 1991, by Bill ...</td>\n",
       "      <td>CBTS_Stream</td>\n",
       "      <td>4</td>\n",
       "      <td>180</td>\n",
       "    </tr>\n",
       "    <tr>\n",
       "      <th>4</th>\n",
       "      <td>\"Can I have a 5p bag with that?\". \"Sorry, we o...</td>\n",
       "      <td>britishproblems</td>\n",
       "      <td>366</td>\n",
       "      <td>660</td>\n",
       "    </tr>\n",
       "  </tbody>\n",
       "</table>\n",
       "</div>"
      ],
      "text/plain": [
       "                                               title             subreddit  \\\n",
       "0  \"@TheBigJamesG: What kind of president doesn't...  TrumpCriticizesTrump   \n",
       "1  \"Alright Pinchy, my little bucket of badness, ...                  lego   \n",
       "2                                  \"Are you my Dad?\"                   aww   \n",
       "3  \"Behold a Pale Horse\" book from 1991, by Bill ...           CBTS_Stream   \n",
       "4  \"Can I have a 5p bag with that?\". \"Sorry, we o...       britishproblems   \n",
       "\n",
       "   comments  minutes  \n",
       "0       205      720  \n",
       "1       122      960  \n",
       "2        10      120  \n",
       "3         4      180  \n",
       "4       366      660  "
      ]
     },
     "execution_count": 2,
     "metadata": {},
     "output_type": "execute_result"
    }
   ],
   "source": [
    "dirname = '/Users/austinlasseter/DSI-EC-2/projects/datasets/proj_3/'\n",
    "data = pd.read_csv(dirname + 'data.csv')\n",
    "data.head()"
   ]
  },
  {
   "cell_type": "markdown",
   "metadata": {},
   "source": [
    "## Exploration"
   ]
  },
  {
   "cell_type": "code",
   "execution_count": 3,
   "metadata": {},
   "outputs": [
    {
     "data": {
      "text/plain": [
       "(5304, 4)"
      ]
     },
     "execution_count": 3,
     "metadata": {},
     "output_type": "execute_result"
    }
   ],
   "source": [
    "# How big is our dataet?\n",
    "data.shape"
   ]
  },
  {
   "cell_type": "code",
   "execution_count": 4,
   "metadata": {},
   "outputs": [
    {
     "data": {
      "text/plain": [
       "title        0\n",
       "subreddit    0\n",
       "comments     0\n",
       "minutes      0\n",
       "dtype: int64"
      ]
     },
     "execution_count": 4,
     "metadata": {},
     "output_type": "execute_result"
    }
   ],
   "source": [
    "# There is no missing data\n",
    "data.isnull().sum()"
   ]
  },
  {
   "cell_type": "markdown",
   "metadata": {},
   "source": [
    "### Exploring the Target Variable"
   ]
  },
  {
   "cell_type": "code",
   "execution_count": 5,
   "metadata": {},
   "outputs": [
    {
     "data": {
      "text/plain": [
       "['\"@TheBigJamesG: What kind of president doesn\\'t get playing golf after a cruel beheading isn\\'t the thing to do? Detached from reality he is\" 8:25 AM - 9 Sep 2014',\n",
       " '\"Alright Pinchy, my little bucket of badness, it\\'s time to finally put Twinkle Toes\\' lights out!\" - Diesel 10 MOC',\n",
       " '\"Are you my Dad?\"']"
      ]
     },
     "execution_count": 5,
     "metadata": {},
     "output_type": "execute_result"
    }
   ],
   "source": [
    "x=list((data['title'].head(3)))\n",
    "x"
   ]
  },
  {
   "cell_type": "code",
   "execution_count": 6,
   "metadata": {
    "collapsed": true
   },
   "outputs": [],
   "source": [
    "# convert all titles and subreddits to lower case\n",
    "data['title']=data['title'].apply(lambda x: x.lower())"
   ]
  },
  {
   "cell_type": "code",
   "execution_count": 7,
   "metadata": {},
   "outputs": [
    {
     "name": "stdout",
     "output_type": "stream",
     "text": [
      "['\"@TheBigJamesG: What kind of president doesn\\'t get playing golf after a cruel beheading isn\\'t the thing to do? Detached from reality he is\" 8:25 AM - 9 Sep 2014', '\"Alright Pinchy, my little bucket of badness, it\\'s time to finally put Twinkle Toes\\' lights out!\" - Diesel 10 MOC', '\"Are you my Dad?\"']\n"
     ]
    },
    {
     "data": {
      "text/plain": [
       "0    \"@thebigjamesg: what kind of president doesn't...\n",
       "1    \"alright pinchy, my little bucket of badness, ...\n",
       "2                                    \"are you my dad?\"\n",
       "3    \"behold a pale horse\" book from 1991, by bill ...\n",
       "4    \"can i have a 5p bag with that?\". \"sorry, we o...\n",
       "Name: title, dtype: object"
      ]
     },
     "execution_count": 7,
     "metadata": {},
     "output_type": "execute_result"
    }
   ],
   "source": [
    "# confirm that did what we wanted\n",
    "print(x)\n",
    "data['title'].head()"
   ]
  },
  {
   "cell_type": "code",
   "execution_count": 8,
   "metadata": {},
   "outputs": [
    {
     "name": "stdout",
     "output_type": "stream",
     "text": [
      "73.0\n",
      "246.72643288084464\n"
     ]
    },
    {
     "data": {
      "text/plain": [
       "count     5304.000000\n",
       "mean       246.726433\n",
       "std        713.458475\n",
       "min          1.000000\n",
       "25%         26.000000\n",
       "50%         73.000000\n",
       "75%        191.000000\n",
       "max      14578.000000\n",
       "Name: comments, dtype: float64"
      ]
     },
     "execution_count": 8,
     "metadata": {},
     "output_type": "execute_result"
    }
   ],
   "source": [
    "# The mean comment is way higher than the median. There must be some serious outliers.\n",
    "print(data['comments'].median())\n",
    "print(data['comments'].mean())\n",
    "data['comments'].describe()"
   ]
  },
  {
   "cell_type": "code",
   "execution_count": 9,
   "metadata": {},
   "outputs": [
    {
     "data": {
      "text/plain": [
       "1.753393665158371"
      ]
     },
     "execution_count": 9,
     "metadata": {},
     "output_type": "execute_result"
    }
   ],
   "source": [
    "# What percent of posts have more than 2,000 comments?\n",
    "((data[data['comments']>2000]['comments'].count())/len(data))*100"
   ]
  },
  {
   "cell_type": "code",
   "execution_count": 10,
   "metadata": {},
   "outputs": [
    {
     "data": {
      "image/png": "[encoded data removed]",
      "text/plain": [
       "<matplotlib.figure.Figure at 0x10d46a080>"
      ]
     },
     "metadata": {},
     "output_type": "display_data"
    }
   ],
   "source": [
    "# What's the distribution of the posts with fewer than 1000 comments?\n",
    "fig = plt.figure(figsize=(8,5))\n",
    "ax=sns.distplot(data[data['comments']<1000]['comments']);\n",
    "plt.axvline(x=data['comments'].median(), color='red');\n",
    "ax.set(ylabel='Distribution', xlabel='Comments per Post', title='Median Comments = 73')\n",
    "plt.show;\n",
    "# The great majority have less than 500 comments."
   ]
  },
  {
   "cell_type": "code",
   "execution_count": 11,
   "metadata": {},
   "outputs": [
    {
     "data": {
      "image/png": "[encoded data removed]",
      "text/plain": [
       "<matplotlib.figure.Figure at 0x10d46a470>"
      ]
     },
     "metadata": {},
     "output_type": "display_data"
    }
   ],
   "source": [
    "# What's the distribution of the posts with more than 2000 comments?\n",
    "sns.distplot(data[data['comments']>=2000]['comments']);"
   ]
  },
  {
   "cell_type": "code",
   "execution_count": 12,
   "metadata": {},
   "outputs": [
    {
     "data": {
      "text/html": [
       "<div>\n",
       "<style>\n",
       "    .dataframe thead tr:only-child th {\n",
       "        text-align: right;\n",
       "    }\n",
       "\n",
       "    .dataframe thead th {\n",
       "        text-align: left;\n",
       "    }\n",
       "\n",
       "    .dataframe tbody tr th {\n",
       "        vertical-align: top;\n",
       "    }\n",
       "</style>\n",
       "<table border=\"1\" class=\"dataframe\">\n",
       "  <thead>\n",
       "    <tr style=\"text-align: right;\">\n",
       "      <th></th>\n",
       "      <th>title</th>\n",
       "      <th>subreddit</th>\n",
       "      <th>comments</th>\n",
       "      <th>minutes</th>\n",
       "    </tr>\n",
       "  </thead>\n",
       "  <tbody>\n",
       "    <tr>\n",
       "      <th>3224</th>\n",
       "      <td>race thread: mencs daytona 500 at daytona inte...</td>\n",
       "      <td>NASCAR</td>\n",
       "      <td>14578</td>\n",
       "      <td>240</td>\n",
       "    </tr>\n",
       "    <tr>\n",
       "      <th>4586</th>\n",
       "      <td>what \"i know it sounds weird, but just try it\"...</td>\n",
       "      <td>AskReddit</td>\n",
       "      <td>13892</td>\n",
       "      <td>360</td>\n",
       "    </tr>\n",
       "    <tr>\n",
       "      <th>389</th>\n",
       "      <td>american gun owners of reddit who have moved t...</td>\n",
       "      <td>AskReddit</td>\n",
       "      <td>12809</td>\n",
       "      <td>780</td>\n",
       "    </tr>\n",
       "    <tr>\n",
       "      <th>504</th>\n",
       "      <td>australia's response under a conservative gove...</td>\n",
       "      <td>pics</td>\n",
       "      <td>12656</td>\n",
       "      <td>240</td>\n",
       "    </tr>\n",
       "    <tr>\n",
       "      <th>4199</th>\n",
       "      <td>this is what democracy looks like. view from t...</td>\n",
       "      <td>pics</td>\n",
       "      <td>12072</td>\n",
       "      <td>900</td>\n",
       "    </tr>\n",
       "  </tbody>\n",
       "</table>\n",
       "</div>"
      ],
      "text/plain": [
       "                                                  title  subreddit  comments  \\\n",
       "3224  race thread: mencs daytona 500 at daytona inte...     NASCAR     14578   \n",
       "4586  what \"i know it sounds weird, but just try it\"...  AskReddit     13892   \n",
       "389   american gun owners of reddit who have moved t...  AskReddit     12809   \n",
       "504   australia's response under a conservative gove...       pics     12656   \n",
       "4199  this is what democracy looks like. view from t...       pics     12072   \n",
       "\n",
       "      minutes  \n",
       "3224      240  \n",
       "4586      360  \n",
       "389       780  \n",
       "504       240  \n",
       "4199      900  "
      ]
     },
     "execution_count": 12,
     "metadata": {},
     "output_type": "execute_result"
    }
   ],
   "source": [
    "# What are the top five posts with the most comments?\n",
    "data[data['comments']>=10000].sort_values(by='comments', ascending=False).head(5)"
   ]
  },
  {
   "cell_type": "code",
   "execution_count": 13,
   "metadata": {},
   "outputs": [
    {
     "data": {
      "text/plain": [
       "['race thread: mencs daytona 500 at daytona international speedway, starting at 2:50pm est on fox (mencs1)']"
      ]
     },
     "execution_count": 13,
     "metadata": {},
     "output_type": "execute_result"
    }
   ],
   "source": [
    "# What the heck is that post with 15,000 comments??\n",
    "list(data.loc[data['comments']>=14000, 'title'])\n",
    "# It's a NASCAR race thread."
   ]
  },
  {
   "cell_type": "markdown",
   "metadata": {},
   "source": [
    "### subreddit"
   ]
  },
  {
   "cell_type": "code",
   "execution_count": 14,
   "metadata": {},
   "outputs": [
    {
     "name": "stdout",
     "output_type": "stream",
     "text": [
      "unique subreddits: 996\n",
      "what percentage of the data is that? 18.778280542986426\n"
     ]
    }
   ],
   "source": [
    "# How many unique subreddits are there?\n",
    "print('unique subreddits:', data['subreddit'].nunique())\n",
    "print('what percentage of the data is that?', 100*data['subreddit'].nunique()/len(data))"
   ]
  },
  {
   "cell_type": "code",
   "execution_count": 15,
   "metadata": {},
   "outputs": [
    {
     "data": {
      "text/plain": [
       "subreddit           subreddit         \n",
       "funny               funny                 191\n",
       "aww                 aww                   157\n",
       "pics                pics                  120\n",
       "gaming              gaming                 99\n",
       "BlackPeopleTwitter  BlackPeopleTwitter     94\n",
       "FortNiteBR          FortNiteBR             79\n",
       "todayilearned       todayilearned          78\n",
       "gifs                gifs                   77\n",
       "PrequelMemes        PrequelMemes           58\n",
       "news                news                   57\n",
       "worldnews           worldnews              48\n",
       "mildlyinteresting   mildlyinteresting      46\n",
       "videos              videos                 45\n",
       "FireEmblemHeroes    FireEmblemHeroes       44\n",
       "interestingasfuck   interestingasfuck      43\n",
       "Name: subreddit, dtype: int64"
      ]
     },
     "execution_count": 15,
     "metadata": {},
     "output_type": "execute_result"
    }
   ],
   "source": [
    "# Which subreddits are most popular, by number of posts?\n",
    "subs=data.groupby('subreddit')['subreddit'].value_counts().sort_values(ascending=False)\n",
    "subs.head(15)"
   ]
  },
  {
   "cell_type": "code",
   "execution_count": 16,
   "metadata": {},
   "outputs": [
    {
     "name": "stdout",
     "output_type": "stream",
     "text": [
      "5.325301204819277\n"
     ]
    },
    {
     "data": {
      "image/png": "[encoded data removed]",
      "text/plain": [
       "<matplotlib.figure.Figure at 0x1197b3f98>"
      ]
     },
     "metadata": {},
     "output_type": "display_data"
    }
   ],
   "source": [
    "# Most subreddits have \n",
    "print(subs.mean())\n",
    "fig = plt.figure(figsize=(8,5))\n",
    "ax=sns.distplot(subs)\n",
    "plt.axvline(x=subs.mean(), color='red');\n",
    "ax.set(ylabel='Distribution', xlabel='Number of posts in a subreddit', title='Most subreddits have about 4 posts');"
   ]
  },
  {
   "cell_type": "code",
   "execution_count": 48,
   "metadata": {},
   "outputs": [
    {
     "data": {
      "image/png": "[encoded data removed]",
      "text/plain": [
       "<matplotlib.figure.Figure at 0x119ed8c18>"
      ]
     },
     "metadata": {},
     "output_type": "display_data"
    }
   ],
   "source": [
    "# Let's take a visual view of those top five subreddits, by max number of comments in each.\n",
    "bars=pd.DataFrame(data.groupby('subreddit')['comments'].max().sort_values(ascending=False).head(5))\n",
    "bars.reset_index(inplace=True)\n",
    "fig = plt.figure(figsize=(8,5))\n",
    "ax=sns.barplot(x=bars['subreddit'], y=bars['comments'])\n",
    "ax.set(ylabel='Max Comments', xlabel='subreddit', title='75% of data posts have less than 197 comments (blue line)')\n",
    "plt.axhline(y=197, color='c');\n",
    "plt.show;"
   ]
  },
  {
   "cell_type": "code",
   "execution_count": 18,
   "metadata": {},
   "outputs": [
    {
     "name": "stdout",
     "output_type": "stream",
     "text": [
      "The median number of comments by subreddit count       996.000000\n",
      "mean       1313.892570\n",
      "std        6487.074128\n",
      "min           1.000000\n",
      "25%          27.000000\n",
      "50%         126.000000\n",
      "75%         605.750000\n",
      "max      134510.000000\n",
      "Name: comments, dtype: float64\n"
     ]
    },
    {
     "data": {
      "text/plain": [
       "subreddit\n",
       "AskReddit             134510\n",
       "pics                   72531\n",
       "todayilearned          65672\n",
       "news                   63812\n",
       "worldnews              41805\n",
       "funny                  39629\n",
       "gaming                 36237\n",
       "videos                 29868\n",
       "gifs                   28594\n",
       "aww                    24771\n",
       "technology             23970\n",
       "movies                 23586\n",
       "BlackPeopleTwitter     17786\n",
       "PoliticalHumor         16989\n",
       "NASCAR                 14839\n",
       "Name: comments, dtype: int64"
      ]
     },
     "execution_count": 18,
     "metadata": {},
     "output_type": "execute_result"
    }
   ],
   "source": [
    "# Which subreddits are most popular, in terms of total comments?\n",
    "print('The median number of comments by subreddit', data.groupby('subreddit')['comments'].sum().describe())\n",
    "data.groupby('subreddit')['comments'].sum().sort_values(ascending=False).head(15)"
   ]
  },
  {
   "cell_type": "code",
   "execution_count": 76,
   "metadata": {},
   "outputs": [
    {
     "name": "stdout",
     "output_type": "stream",
     "text": [
      "1308637 1217379 0.9302648480823941\n"
     ]
    }
   ],
   "source": [
    "# 25% of subreddits account for almost 95% of all comments\n",
    "subs=data.groupby('subreddit')['comments'].sum()\n",
    "x=subs.sum()\n",
    "y=subs[subs>=605].sum()\n",
    "print (x, y, y/x)"
   ]
  },
  {
   "cell_type": "markdown",
   "metadata": {},
   "source": [
    "## Categorical variable for most popular subreddits"
   ]
  },
  {
   "cell_type": "code",
   "execution_count": 80,
   "metadata": {},
   "outputs": [
    {
     "data": {
      "image/png": "[encoded data removed]",
      "text/plain": [
       "<matplotlib.figure.Figure at 0x11acec550>"
      ]
     },
     "metadata": {},
     "output_type": "display_data"
    }
   ],
   "source": [
    "# Let's take a visual view of those top five subreddits, by total number of comments in each.\n",
    "bars=pd.DataFrame(data.groupby('subreddit')['comments'].sum().sort_values(ascending=False).head(5))\n",
    "bars.reset_index(inplace=True)\n",
    "fig = plt.figure(figsize=(10,8))\n",
    "ax=sns.barplot(x=bars['subreddit'], y=bars['comments'])\n",
    "ax.set(ylabel='Total Comments', xlabel='Top 5 subreddits', title='Only 25% of subreddits have >605 comments (blue line)')\n",
    "plt.axhline(y=605, color='c');"
   ]
  },
  {
   "cell_type": "code",
   "execution_count": 21,
   "metadata": {},
   "outputs": [
    {
     "name": "stdout",
     "output_type": "stream",
     "text": [
      "175    AskReddit\n",
      "389    AskReddit\n",
      "591    AskReddit\n",
      "Name: which_sub, dtype: object\n",
      "107    big4\n",
      "159    big4\n",
      "160    big4\n",
      "Name: which_sub, dtype: object\n"
     ]
    },
    {
     "data": {
      "text/plain": [
       "others       4820\n",
       "big4          446\n",
       "AskReddit      38\n",
       "Name: which_sub, dtype: int64"
      ]
     },
     "execution_count": 21,
     "metadata": {},
     "output_type": "execute_result"
    }
   ],
   "source": [
    "# create a categorical variable, measuring if it's in those most popular subreddits.\n",
    "data['which_sub']='others'\n",
    "data.loc[data['subreddit'].isin(['pics', 'news', 'todayilearned', 'funny']), 'which_sub']='big4'\n",
    "data.loc[data['subreddit'].isin(['AskReddit']), 'which_sub']='AskReddit'\n",
    "# Confirm that did what we wanted it to:\n",
    "print(data[data['subreddit']=='AskReddit']['which_sub'].head(3))\n",
    "print(data[data['subreddit']=='pics']['which_sub'].head(3))\n",
    "data['which_sub'].value_counts()"
   ]
  },
  {
   "cell_type": "code",
   "execution_count": 22,
   "metadata": {},
   "outputs": [
    {
     "name": "stdout",
     "output_type": "stream",
     "text": [
      "AskReddit 2017.5\n",
      "big4 145.0\n",
      "others 66.0\n"
     ]
    },
    {
     "data": {
      "image/png": "[encoded data removed]",
      "text/plain": [
       "<matplotlib.figure.Figure at 0x10d46a128>"
      ]
     },
     "metadata": {},
     "output_type": "display_data"
    }
   ],
   "source": [
    "# Any correlation with comments? Yes. The average number of comments is much higher depending on the subreddit.\n",
    "print('AskReddit', data[data['which_sub']=='AskReddit']['comments'].median())\n",
    "print('big4', data[data['which_sub']=='big4']['comments'].median())\n",
    "print('others', data[data['which_sub']=='others']['comments'].median())\n",
    "sns.boxplot(x='which_sub', y='comments', data=data);"
   ]
  },
  {
   "cell_type": "code",
   "execution_count": 23,
   "metadata": {},
   "outputs": [
    {
     "name": "stdout",
     "output_type": "stream",
     "text": [
      "how many posts in this subreddit? 38\n"
     ]
    },
    {
     "data": {
      "text/html": [
       "<div>\n",
       "<style>\n",
       "    .dataframe thead tr:only-child th {\n",
       "        text-align: right;\n",
       "    }\n",
       "\n",
       "    .dataframe thead th {\n",
       "        text-align: left;\n",
       "    }\n",
       "\n",
       "    .dataframe tbody tr th {\n",
       "        vertical-align: top;\n",
       "    }\n",
       "</style>\n",
       "<table border=\"1\" class=\"dataframe\">\n",
       "  <thead>\n",
       "    <tr style=\"text-align: right;\">\n",
       "      <th></th>\n",
       "      <th>title</th>\n",
       "      <th>subreddit</th>\n",
       "      <th>comments</th>\n",
       "      <th>minutes</th>\n",
       "      <th>which_sub</th>\n",
       "    </tr>\n",
       "  </thead>\n",
       "  <tbody>\n",
       "    <tr>\n",
       "      <th>4586</th>\n",
       "      <td>what \"i know it sounds weird, but just try it\"...</td>\n",
       "      <td>AskReddit</td>\n",
       "      <td>13892</td>\n",
       "      <td>360</td>\n",
       "      <td>AskReddit</td>\n",
       "    </tr>\n",
       "    <tr>\n",
       "      <th>389</th>\n",
       "      <td>american gun owners of reddit who have moved t...</td>\n",
       "      <td>AskReddit</td>\n",
       "      <td>12809</td>\n",
       "      <td>780</td>\n",
       "      <td>AskReddit</td>\n",
       "    </tr>\n",
       "    <tr>\n",
       "      <th>4619</th>\n",
       "      <td>what is the dumbest thing you’ve ever done for...</td>\n",
       "      <td>AskReddit</td>\n",
       "      <td>11464</td>\n",
       "      <td>660</td>\n",
       "      <td>AskReddit</td>\n",
       "    </tr>\n",
       "    <tr>\n",
       "      <th>3259</th>\n",
       "      <td>reddit, what video games have you soft-locked ...</td>\n",
       "      <td>AskReddit</td>\n",
       "      <td>11175</td>\n",
       "      <td>1020</td>\n",
       "      <td>AskReddit</td>\n",
       "    </tr>\n",
       "    <tr>\n",
       "      <th>4622</th>\n",
       "      <td>what is the most interesting documentary you'v...</td>\n",
       "      <td>AskReddit</td>\n",
       "      <td>10034</td>\n",
       "      <td>420</td>\n",
       "      <td>AskReddit</td>\n",
       "    </tr>\n",
       "    <tr>\n",
       "      <th>4623</th>\n",
       "      <td>what is the smartest thing you've ever done?</td>\n",
       "      <td>AskReddit</td>\n",
       "      <td>5606</td>\n",
       "      <td>540</td>\n",
       "      <td>AskReddit</td>\n",
       "    </tr>\n",
       "    <tr>\n",
       "      <th>4643</th>\n",
       "      <td>what's a level 1 enemy in real life?</td>\n",
       "      <td>AskReddit</td>\n",
       "      <td>5425</td>\n",
       "      <td>840</td>\n",
       "      <td>AskReddit</td>\n",
       "    </tr>\n",
       "    <tr>\n",
       "      <th>1669</th>\n",
       "      <td>how did you lose the genetic lottery?</td>\n",
       "      <td>AskReddit</td>\n",
       "      <td>5287</td>\n",
       "      <td>720</td>\n",
       "      <td>AskReddit</td>\n",
       "    </tr>\n",
       "    <tr>\n",
       "      <th>175</th>\n",
       "      <td>a british charity that helps victims of forced...</td>\n",
       "      <td>AskReddit</td>\n",
       "      <td>4555</td>\n",
       "      <td>420</td>\n",
       "      <td>AskReddit</td>\n",
       "    </tr>\n",
       "    <tr>\n",
       "      <th>4610</th>\n",
       "      <td>what foods are just delivery systems for other...</td>\n",
       "      <td>AskReddit</td>\n",
       "      <td>4518</td>\n",
       "      <td>1080</td>\n",
       "      <td>AskReddit</td>\n",
       "    </tr>\n",
       "  </tbody>\n",
       "</table>\n",
       "</div>"
      ],
      "text/plain": [
       "                                                  title  subreddit  comments  \\\n",
       "4586  what \"i know it sounds weird, but just try it\"...  AskReddit     13892   \n",
       "389   american gun owners of reddit who have moved t...  AskReddit     12809   \n",
       "4619  what is the dumbest thing you’ve ever done for...  AskReddit     11464   \n",
       "3259  reddit, what video games have you soft-locked ...  AskReddit     11175   \n",
       "4622  what is the most interesting documentary you'v...  AskReddit     10034   \n",
       "4623       what is the smartest thing you've ever done?  AskReddit      5606   \n",
       "4643               what's a level 1 enemy in real life?  AskReddit      5425   \n",
       "1669              how did you lose the genetic lottery?  AskReddit      5287   \n",
       "175   a british charity that helps victims of forced...  AskReddit      4555   \n",
       "4610  what foods are just delivery systems for other...  AskReddit      4518   \n",
       "\n",
       "      minutes  which_sub  \n",
       "4586      360  AskReddit  \n",
       "389       780  AskReddit  \n",
       "4619      660  AskReddit  \n",
       "3259     1020  AskReddit  \n",
       "4622      420  AskReddit  \n",
       "4623      540  AskReddit  \n",
       "4643      840  AskReddit  \n",
       "1669      720  AskReddit  \n",
       "175       420  AskReddit  \n",
       "4610     1080  AskReddit  "
      ]
     },
     "execution_count": 23,
     "metadata": {},
     "output_type": "execute_result"
    }
   ],
   "source": [
    "# There are only 25 posts in the \"AskReddit\" subreddit. Is one of them an outlier?\n",
    "ask=data[data['subreddit']=='AskReddit']\n",
    "print('how many posts in this subreddit?', len(ask))\n",
    "ask.sort_values('comments', ascending=False).head(10)\n",
    "# There's a post in there with 13,000 comments."
   ]
  },
  {
   "cell_type": "code",
   "execution_count": 24,
   "metadata": {},
   "outputs": [
    {
     "data": {
      "text/plain": [
       "['american gun owners of reddit who have moved to a country with strict gun-control, what has this been like, what are the differences?',\n",
       " 'what \"i know it sounds weird, but just try it\" thing do you swear by?']"
      ]
     },
     "execution_count": 24,
     "metadata": {},
     "output_type": "execute_result"
    }
   ],
   "source": [
    "# What does that comment say?\n",
    "list(ask.loc[ask['comments']>=12000, 'title'])\n",
    "# It's about gun control. Aftershock of the Parkland, FL school shooting."
   ]
  },
  {
   "cell_type": "code",
   "execution_count": 25,
   "metadata": {},
   "outputs": [
    {
     "name": "stdout",
     "output_type": "stream",
     "text": [
      "mean: 3539.7368421052633\n",
      "median: 2017.5\n"
     ]
    }
   ],
   "source": [
    "# If median instead of mean, does it change # of comments per AskReddit post? yes. but it's still high.\n",
    "print('mean:', ask['comments'].mean())\n",
    "print('median:', ask['comments'].median())"
   ]
  },
  {
   "cell_type": "markdown",
   "metadata": {},
   "source": [
    "#### Convert those subreddits into dummy variables."
   ]
  },
  {
   "cell_type": "code",
   "execution_count": 26,
   "metadata": {
    "collapsed": true
   },
   "outputs": [],
   "source": [
    "# Bring out the dummies.\n",
    "dummies=pd.get_dummies(data['which_sub'])\n",
    "data=pd.concat([data, dummies], axis=1)"
   ]
  },
  {
   "cell_type": "markdown",
   "metadata": {},
   "source": [
    "## Minutes"
   ]
  },
  {
   "cell_type": "code",
   "execution_count": 27,
   "metadata": {},
   "outputs": [
    {
     "name": "stdout",
     "output_type": "stream",
     "text": [
      "540.0\n",
      "547.6826923076923\n"
     ]
    },
    {
     "data": {
      "text/plain": [
       "count    5304.000000\n",
       "mean      547.682692\n",
       "std       284.500733\n",
       "min         4.000000\n",
       "25%       300.000000\n",
       "50%       540.000000\n",
       "75%       720.000000\n",
       "max      1380.000000\n",
       "Name: minutes, dtype: float64"
      ]
     },
     "execution_count": 27,
     "metadata": {},
     "output_type": "execute_result"
    }
   ],
   "source": [
    "# The mean and median aren't all that different.\n",
    "print(data['minutes'].median())\n",
    "print(data['minutes'].mean())\n",
    "data['minutes'].describe()"
   ]
  },
  {
   "cell_type": "code",
   "execution_count": 86,
   "metadata": {},
   "outputs": [
    {
     "data": {
      "text/plain": [
       "9.116666666666667"
      ]
     },
     "execution_count": 86,
     "metadata": {},
     "output_type": "execute_result"
    }
   ],
   "source": [
    "547/60"
   ]
  },
  {
   "cell_type": "code",
   "execution_count": 87,
   "metadata": {},
   "outputs": [
    {
     "data": {
      "image/png": "[encoded data removed]",
      "text/plain": [
       "<matplotlib.figure.Figure at 0x10dc19b38>"
      ]
     },
     "metadata": {},
     "output_type": "display_data"
    }
   ],
   "source": [
    "# Distribution of minutes\n",
    "fig = plt.figure(figsize=(10,5))\n",
    "ax=sns.distplot(data['minutes'])\n",
    "ax.set(ylabel='Distribution', xlabel='Minutes', title='Most posts have been up for about 9 hours')\n",
    "plt.axvline(x=data['minutes'].mean(), color='r');"
   ]
  },
  {
   "cell_type": "code",
   "execution_count": 29,
   "metadata": {},
   "outputs": [
    {
     "data": {
      "text/html": [
       "<div>\n",
       "<style>\n",
       "    .dataframe thead tr:only-child th {\n",
       "        text-align: right;\n",
       "    }\n",
       "\n",
       "    .dataframe thead th {\n",
       "        text-align: left;\n",
       "    }\n",
       "\n",
       "    .dataframe tbody tr th {\n",
       "        vertical-align: top;\n",
       "    }\n",
       "</style>\n",
       "<table border=\"1\" class=\"dataframe\">\n",
       "  <thead>\n",
       "    <tr style=\"text-align: right;\">\n",
       "      <th></th>\n",
       "      <th>comments</th>\n",
       "      <th>minutes</th>\n",
       "      <th>AskReddit</th>\n",
       "      <th>big4</th>\n",
       "      <th>others</th>\n",
       "    </tr>\n",
       "  </thead>\n",
       "  <tbody>\n",
       "    <tr>\n",
       "      <th>comments</th>\n",
       "      <td>1.000000</td>\n",
       "      <td>0.140068</td>\n",
       "      <td>0.392118</td>\n",
       "      <td>0.125327</td>\n",
       "      <td>-0.235623</td>\n",
       "    </tr>\n",
       "    <tr>\n",
       "      <th>minutes</th>\n",
       "      <td>0.140068</td>\n",
       "      <td>1.000000</td>\n",
       "      <td>-0.010310</td>\n",
       "      <td>0.023899</td>\n",
       "      <td>-0.020013</td>\n",
       "    </tr>\n",
       "    <tr>\n",
       "      <th>AskReddit</th>\n",
       "      <td>0.392118</td>\n",
       "      <td>-0.010310</td>\n",
       "      <td>1.000000</td>\n",
       "      <td>-0.025739</td>\n",
       "      <td>-0.268072</td>\n",
       "    </tr>\n",
       "    <tr>\n",
       "      <th>big4</th>\n",
       "      <td>0.125327</td>\n",
       "      <td>0.023899</td>\n",
       "      <td>-0.025739</td>\n",
       "      <td>1.000000</td>\n",
       "      <td>-0.956180</td>\n",
       "    </tr>\n",
       "    <tr>\n",
       "      <th>others</th>\n",
       "      <td>-0.235623</td>\n",
       "      <td>-0.020013</td>\n",
       "      <td>-0.268072</td>\n",
       "      <td>-0.956180</td>\n",
       "      <td>1.000000</td>\n",
       "    </tr>\n",
       "  </tbody>\n",
       "</table>\n",
       "</div>"
      ],
      "text/plain": [
       "           comments   minutes  AskReddit      big4    others\n",
       "comments   1.000000  0.140068   0.392118  0.125327 -0.235623\n",
       "minutes    0.140068  1.000000  -0.010310  0.023899 -0.020013\n",
       "AskReddit  0.392118 -0.010310   1.000000 -0.025739 -0.268072\n",
       "big4       0.125327  0.023899  -0.025739  1.000000 -0.956180\n",
       "others    -0.235623 -0.020013  -0.268072 -0.956180  1.000000"
      ]
     },
     "execution_count": 29,
     "metadata": {},
     "output_type": "execute_result"
    }
   ],
   "source": [
    "# Is there any relationship between minutes and number of posts?\n",
    "data.corr()\n",
    "# Not much."
   ]
  },
  {
   "cell_type": "code",
   "execution_count": 30,
   "metadata": {},
   "outputs": [
    {
     "data": {
      "image/png": "[encoded data removed]",
      "text/plain": [
       "<matplotlib.figure.Figure at 0x1197a69b0>"
      ]
     },
     "metadata": {},
     "output_type": "display_data"
    }
   ],
   "source": [
    "# There is almost no relationship between number of comments vs. number of minutes.\n",
    "sns.regplot(x='minutes', y='comments', data=data);"
   ]
  },
  {
   "cell_type": "code",
   "execution_count": 31,
   "metadata": {},
   "outputs": [
    {
     "data": {
      "image/png": "[encoded data removed]",
      "text/plain": [
       "<matplotlib.figure.Figure at 0x119be2668>"
      ]
     },
     "metadata": {},
     "output_type": "display_data"
    }
   ],
   "source": [
    "# This continues to be true among high-volume posts\n",
    "sns.regplot(x='minutes', y='comments', data=data[data['comments']>2000]);"
   ]
  },
  {
   "cell_type": "code",
   "execution_count": 32,
   "metadata": {},
   "outputs": [
    {
     "data": {
      "image/png": "[encoded data removed]",
      "text/plain": [
       "<matplotlib.figure.Figure at 0x119c35e48>"
      ]
     },
     "metadata": {},
     "output_type": "display_data"
    }
   ],
   "source": [
    "# This continues to be true among low-volume posts\n",
    "sns.regplot(x='minutes', y='comments', data=data[data['comments']<50]);"
   ]
  },
  {
   "cell_type": "code",
   "execution_count": 33,
   "metadata": {},
   "outputs": [
    {
     "data": {
      "image/png": "[encoded data removed]",
      "text/plain": [
       "<matplotlib.figure.Figure at 0x10d4422b0>"
      ]
     },
     "metadata": {},
     "output_type": "display_data"
    }
   ],
   "source": [
    "# It's also true in the opposite direction. Posts with high 'minutes' do not have any pattern to the number of comments.\n",
    "sns.regplot(x='minutes', y='comments', data=data[data['minutes']>500]);"
   ]
  },
  {
   "cell_type": "markdown",
   "metadata": {},
   "source": [
    "## Title"
   ]
  },
  {
   "cell_type": "code",
   "execution_count": 34,
   "metadata": {},
   "outputs": [
    {
     "data": {
      "text/html": [
       "<div>\n",
       "<style>\n",
       "    .dataframe thead tr:only-child th {\n",
       "        text-align: right;\n",
       "    }\n",
       "\n",
       "    .dataframe thead th {\n",
       "        text-align: left;\n",
       "    }\n",
       "\n",
       "    .dataframe tbody tr th {\n",
       "        vertical-align: top;\n",
       "    }\n",
       "</style>\n",
       "<table border=\"1\" class=\"dataframe\">\n",
       "  <thead>\n",
       "    <tr style=\"text-align: right;\">\n",
       "      <th></th>\n",
       "      <th>title</th>\n",
       "      <th>subreddit</th>\n",
       "      <th>comments</th>\n",
       "      <th>minutes</th>\n",
       "      <th>which_sub</th>\n",
       "      <th>AskReddit</th>\n",
       "      <th>big4</th>\n",
       "      <th>others</th>\n",
       "      <th>length</th>\n",
       "    </tr>\n",
       "  </thead>\n",
       "  <tbody>\n",
       "    <tr>\n",
       "      <th>0</th>\n",
       "      <td>\"@thebigjamesg: what kind of president doesn't...</td>\n",
       "      <td>TrumpCriticizesTrump</td>\n",
       "      <td>205</td>\n",
       "      <td>720</td>\n",
       "      <td>others</td>\n",
       "      <td>0</td>\n",
       "      <td>0</td>\n",
       "      <td>1</td>\n",
       "      <td>160</td>\n",
       "    </tr>\n",
       "    <tr>\n",
       "      <th>1</th>\n",
       "      <td>\"alright pinchy, my little bucket of badness, ...</td>\n",
       "      <td>lego</td>\n",
       "      <td>122</td>\n",
       "      <td>960</td>\n",
       "      <td>others</td>\n",
       "      <td>0</td>\n",
       "      <td>0</td>\n",
       "      <td>1</td>\n",
       "      <td>113</td>\n",
       "    </tr>\n",
       "    <tr>\n",
       "      <th>2</th>\n",
       "      <td>\"are you my dad?\"</td>\n",
       "      <td>aww</td>\n",
       "      <td>10</td>\n",
       "      <td>120</td>\n",
       "      <td>others</td>\n",
       "      <td>0</td>\n",
       "      <td>0</td>\n",
       "      <td>1</td>\n",
       "      <td>17</td>\n",
       "    </tr>\n",
       "    <tr>\n",
       "      <th>3</th>\n",
       "      <td>\"behold a pale horse\" book from 1991, by bill ...</td>\n",
       "      <td>CBTS_Stream</td>\n",
       "      <td>4</td>\n",
       "      <td>180</td>\n",
       "      <td>others</td>\n",
       "      <td>0</td>\n",
       "      <td>0</td>\n",
       "      <td>1</td>\n",
       "      <td>149</td>\n",
       "    </tr>\n",
       "    <tr>\n",
       "      <th>4</th>\n",
       "      <td>\"can i have a 5p bag with that?\". \"sorry, we o...</td>\n",
       "      <td>britishproblems</td>\n",
       "      <td>366</td>\n",
       "      <td>660</td>\n",
       "      <td>others</td>\n",
       "      <td>0</td>\n",
       "      <td>0</td>\n",
       "      <td>1</td>\n",
       "      <td>138</td>\n",
       "    </tr>\n",
       "  </tbody>\n",
       "</table>\n",
       "</div>"
      ],
      "text/plain": [
       "                                               title             subreddit  \\\n",
       "0  \"@thebigjamesg: what kind of president doesn't...  TrumpCriticizesTrump   \n",
       "1  \"alright pinchy, my little bucket of badness, ...                  lego   \n",
       "2                                  \"are you my dad?\"                   aww   \n",
       "3  \"behold a pale horse\" book from 1991, by bill ...           CBTS_Stream   \n",
       "4  \"can i have a 5p bag with that?\". \"sorry, we o...       britishproblems   \n",
       "\n",
       "   comments  minutes which_sub  AskReddit  big4  others  length  \n",
       "0       205      720    others          0     0       1     160  \n",
       "1       122      960    others          0     0       1     113  \n",
       "2        10      120    others          0     0       1      17  \n",
       "3         4      180    others          0     0       1     149  \n",
       "4       366      660    others          0     0       1     138  "
      ]
     },
     "execution_count": 34,
     "metadata": {},
     "output_type": "execute_result"
    }
   ],
   "source": [
    "# Let's create a new variable, measuring the length of the title\n",
    "data['length']=data['title'].apply(len)\n",
    "data.head()"
   ]
  },
  {
   "cell_type": "code",
   "execution_count": 35,
   "metadata": {},
   "outputs": [
    {
     "data": {
      "image/png": "[encoded data removed]",
      "text/plain": [
       "<matplotlib.figure.Figure at 0x119ecad30>"
      ]
     },
     "metadata": {},
     "output_type": "display_data"
    }
   ],
   "source": [
    "# What's its distribution?\n",
    "fig = plt.figure(figsize=(10,5))\n",
    "ax=sns.distplot(data['length'])\n",
    "plt.axvline(x=data['length'].mean(), color='y')\n",
    "ax.set(ylabel='Distribution', xlabel='Length of Title', title='Most data posts are about 50 characters long');"
   ]
  },
  {
   "cell_type": "code",
   "execution_count": 36,
   "metadata": {},
   "outputs": [
    {
     "data": {
      "text/html": [
       "<div>\n",
       "<style>\n",
       "    .dataframe thead tr:only-child th {\n",
       "        text-align: right;\n",
       "    }\n",
       "\n",
       "    .dataframe thead th {\n",
       "        text-align: left;\n",
       "    }\n",
       "\n",
       "    .dataframe tbody tr th {\n",
       "        vertical-align: top;\n",
       "    }\n",
       "</style>\n",
       "<table border=\"1\" class=\"dataframe\">\n",
       "  <thead>\n",
       "    <tr style=\"text-align: right;\">\n",
       "      <th></th>\n",
       "      <th>comments</th>\n",
       "      <th>minutes</th>\n",
       "      <th>AskReddit</th>\n",
       "      <th>big4</th>\n",
       "      <th>others</th>\n",
       "      <th>length</th>\n",
       "    </tr>\n",
       "  </thead>\n",
       "  <tbody>\n",
       "    <tr>\n",
       "      <th>comments</th>\n",
       "      <td>1.000000</td>\n",
       "      <td>0.140068</td>\n",
       "      <td>0.392118</td>\n",
       "      <td>0.125327</td>\n",
       "      <td>-0.235623</td>\n",
       "      <td>0.160380</td>\n",
       "    </tr>\n",
       "    <tr>\n",
       "      <th>minutes</th>\n",
       "      <td>0.140068</td>\n",
       "      <td>1.000000</td>\n",
       "      <td>-0.010310</td>\n",
       "      <td>0.023899</td>\n",
       "      <td>-0.020013</td>\n",
       "      <td>0.001666</td>\n",
       "    </tr>\n",
       "    <tr>\n",
       "      <th>AskReddit</th>\n",
       "      <td>0.392118</td>\n",
       "      <td>-0.010310</td>\n",
       "      <td>1.000000</td>\n",
       "      <td>-0.025739</td>\n",
       "      <td>-0.268072</td>\n",
       "      <td>0.046065</td>\n",
       "    </tr>\n",
       "    <tr>\n",
       "      <th>big4</th>\n",
       "      <td>0.125327</td>\n",
       "      <td>0.023899</td>\n",
       "      <td>-0.025739</td>\n",
       "      <td>1.000000</td>\n",
       "      <td>-0.956180</td>\n",
       "      <td>0.106165</td>\n",
       "    </tr>\n",
       "    <tr>\n",
       "      <th>others</th>\n",
       "      <td>-0.235623</td>\n",
       "      <td>-0.020013</td>\n",
       "      <td>-0.268072</td>\n",
       "      <td>-0.956180</td>\n",
       "      <td>1.000000</td>\n",
       "      <td>-0.115805</td>\n",
       "    </tr>\n",
       "    <tr>\n",
       "      <th>length</th>\n",
       "      <td>0.160380</td>\n",
       "      <td>0.001666</td>\n",
       "      <td>0.046065</td>\n",
       "      <td>0.106165</td>\n",
       "      <td>-0.115805</td>\n",
       "      <td>1.000000</td>\n",
       "    </tr>\n",
       "  </tbody>\n",
       "</table>\n",
       "</div>"
      ],
      "text/plain": [
       "           comments   minutes  AskReddit      big4    others    length\n",
       "comments   1.000000  0.140068   0.392118  0.125327 -0.235623  0.160380\n",
       "minutes    0.140068  1.000000  -0.010310  0.023899 -0.020013  0.001666\n",
       "AskReddit  0.392118 -0.010310   1.000000 -0.025739 -0.268072  0.046065\n",
       "big4       0.125327  0.023899  -0.025739  1.000000 -0.956180  0.106165\n",
       "others    -0.235623 -0.020013  -0.268072 -0.956180  1.000000 -0.115805\n",
       "length     0.160380  0.001666   0.046065  0.106165 -0.115805  1.000000"
      ]
     },
     "execution_count": 36,
     "metadata": {},
     "output_type": "execute_result"
    }
   ],
   "source": [
    "# Is there any relationship between title length and number of comments?\n",
    "data.corr()\n",
    "# Not really"
   ]
  },
  {
   "cell_type": "code",
   "execution_count": 37,
   "metadata": {},
   "outputs": [
    {
     "data": {
      "text/plain": [
       "<matplotlib.axes._subplots.AxesSubplot at 0x119f95ef0>"
      ]
     },
     "execution_count": 37,
     "metadata": {},
     "output_type": "execute_result"
    },
    {
     "data": {
      "image/png": "[encoded data removed]",
      "text/plain": [
       "<matplotlib.figure.Figure at 0x119f9f860>"
      ]
     },
     "metadata": {},
     "output_type": "display_data"
    }
   ],
   "source": [
    "# Let's visualize that. There's only a slight relationship.\n",
    "sns.regplot(x='comments', y='length', data=data[data['comments']<2000])"
   ]
  },
  {
   "cell_type": "code",
   "execution_count": 38,
   "metadata": {},
   "outputs": [
    {
     "data": {
      "text/plain": [
       "Ttest_indResult(statistic=29.321098885243362, pvalue=1.1659023897422636e-181)"
      ]
     },
     "execution_count": 38,
     "metadata": {},
     "output_type": "execute_result"
    }
   ],
   "source": [
    "# A t-test confirms that there is no significant relationship here. Toggling the number of comments made no difference.\n",
    "import scipy.stats as stats\n",
    "stats.ttest_ind(data[data['comments']<2000]['comments'], data[data['comments']<2000]['length'])"
   ]
  },
  {
   "cell_type": "code",
   "execution_count": 39,
   "metadata": {},
   "outputs": [
    {
     "data": {
      "text/plain": [
       "Ttest_indResult(statistic=-28.5359612276064, pvalue=1.2538824340409584e-172)"
      ]
     },
     "execution_count": 39,
     "metadata": {},
     "output_type": "execute_result"
    }
   ],
   "source": [
    "# A t-test confirms that there is no significant relationship for minutes, either.\n",
    "import scipy.stats as stats\n",
    "stats.ttest_ind(data['comments'], data['minutes'])"
   ]
  },
  {
   "cell_type": "markdown",
   "metadata": {
    "collapsed": true
   },
   "source": [
    "# Create the target variable"
   ]
  },
  {
   "cell_type": "code",
   "execution_count": 40,
   "metadata": {},
   "outputs": [
    {
     "data": {
      "text/html": [
       "<div>\n",
       "<style>\n",
       "    .dataframe thead tr:only-child th {\n",
       "        text-align: right;\n",
       "    }\n",
       "\n",
       "    .dataframe thead th {\n",
       "        text-align: left;\n",
       "    }\n",
       "\n",
       "    .dataframe tbody tr th {\n",
       "        vertical-align: top;\n",
       "    }\n",
       "</style>\n",
       "<table border=\"1\" class=\"dataframe\">\n",
       "  <thead>\n",
       "    <tr style=\"text-align: right;\">\n",
       "      <th></th>\n",
       "      <th>title</th>\n",
       "      <th>subreddit</th>\n",
       "      <th>comments</th>\n",
       "      <th>minutes</th>\n",
       "      <th>which_sub</th>\n",
       "      <th>AskReddit</th>\n",
       "      <th>big4</th>\n",
       "      <th>others</th>\n",
       "      <th>length</th>\n",
       "      <th>over_under</th>\n",
       "    </tr>\n",
       "  </thead>\n",
       "  <tbody>\n",
       "    <tr>\n",
       "      <th>0</th>\n",
       "      <td>\"@thebigjamesg: what kind of president doesn't...</td>\n",
       "      <td>TrumpCriticizesTrump</td>\n",
       "      <td>205</td>\n",
       "      <td>720</td>\n",
       "      <td>others</td>\n",
       "      <td>0</td>\n",
       "      <td>0</td>\n",
       "      <td>1</td>\n",
       "      <td>160</td>\n",
       "      <td>1</td>\n",
       "    </tr>\n",
       "    <tr>\n",
       "      <th>1</th>\n",
       "      <td>\"alright pinchy, my little bucket of badness, ...</td>\n",
       "      <td>lego</td>\n",
       "      <td>122</td>\n",
       "      <td>960</td>\n",
       "      <td>others</td>\n",
       "      <td>0</td>\n",
       "      <td>0</td>\n",
       "      <td>1</td>\n",
       "      <td>113</td>\n",
       "      <td>1</td>\n",
       "    </tr>\n",
       "    <tr>\n",
       "      <th>2</th>\n",
       "      <td>\"are you my dad?\"</td>\n",
       "      <td>aww</td>\n",
       "      <td>10</td>\n",
       "      <td>120</td>\n",
       "      <td>others</td>\n",
       "      <td>0</td>\n",
       "      <td>0</td>\n",
       "      <td>1</td>\n",
       "      <td>17</td>\n",
       "      <td>0</td>\n",
       "    </tr>\n",
       "    <tr>\n",
       "      <th>3</th>\n",
       "      <td>\"behold a pale horse\" book from 1991, by bill ...</td>\n",
       "      <td>CBTS_Stream</td>\n",
       "      <td>4</td>\n",
       "      <td>180</td>\n",
       "      <td>others</td>\n",
       "      <td>0</td>\n",
       "      <td>0</td>\n",
       "      <td>1</td>\n",
       "      <td>149</td>\n",
       "      <td>0</td>\n",
       "    </tr>\n",
       "    <tr>\n",
       "      <th>4</th>\n",
       "      <td>\"can i have a 5p bag with that?\". \"sorry, we o...</td>\n",
       "      <td>britishproblems</td>\n",
       "      <td>366</td>\n",
       "      <td>660</td>\n",
       "      <td>others</td>\n",
       "      <td>0</td>\n",
       "      <td>0</td>\n",
       "      <td>1</td>\n",
       "      <td>138</td>\n",
       "      <td>1</td>\n",
       "    </tr>\n",
       "  </tbody>\n",
       "</table>\n",
       "</div>"
      ],
      "text/plain": [
       "                                               title             subreddit  \\\n",
       "0  \"@thebigjamesg: what kind of president doesn't...  TrumpCriticizesTrump   \n",
       "1  \"alright pinchy, my little bucket of badness, ...                  lego   \n",
       "2                                  \"are you my dad?\"                   aww   \n",
       "3  \"behold a pale horse\" book from 1991, by bill ...           CBTS_Stream   \n",
       "4  \"can i have a 5p bag with that?\". \"sorry, we o...       britishproblems   \n",
       "\n",
       "   comments  minutes which_sub  AskReddit  big4  others  length  over_under  \n",
       "0       205      720    others          0     0       1     160           1  \n",
       "1       122      960    others          0     0       1     113           1  \n",
       "2        10      120    others          0     0       1      17           0  \n",
       "3         4      180    others          0     0       1     149           0  \n",
       "4       366      660    others          0     0       1     138           1  "
      ]
     },
     "execution_count": 40,
     "metadata": {},
     "output_type": "execute_result"
    }
   ],
   "source": [
    "# First we need to create the outcome variable\n",
    "data['over_under']=(data['comments']>data['comments'].median()).astype(int)\n",
    "data.head()"
   ]
  },
  {
   "cell_type": "code",
   "execution_count": 41,
   "metadata": {},
   "outputs": [
    {
     "name": "stdout",
     "output_type": "stream",
     "text": [
      "count    5304.000000\n",
      "mean        0.498303\n",
      "std         0.500044\n",
      "min         0.000000\n",
      "25%         0.000000\n",
      "50%         0.000000\n",
      "75%         1.000000\n",
      "max         1.000000\n",
      "Name: over_under, dtype: float64\n"
     ]
    }
   ],
   "source": [
    "# Let's check out its distribution.\n",
    "print(data['over_under'].describe()) # About 50% of the dataset is below the median, which is (duh) obvious"
   ]
  },
  {
   "cell_type": "code",
   "execution_count": 42,
   "metadata": {},
   "outputs": [
    {
     "data": {
      "text/plain": [
       "<matplotlib.axes._subplots.AxesSubplot at 0x11ac34630>"
      ]
     },
     "execution_count": 42,
     "metadata": {},
     "output_type": "execute_result"
    },
    {
     "data": {
      "image/png": "[encoded data removed]",
      "text/plain": [
       "<matplotlib.figure.Figure at 0x10d463cf8>"
      ]
     },
     "metadata": {},
     "output_type": "display_data"
    }
   ],
   "source": [
    "# This is sort of hard to visualize, but obviously the number of comments is lower for the \"under\" group.\n",
    "sns.boxplot(x='over_under', y='comments', data=data[data['comments']<150])"
   ]
  },
  {
   "cell_type": "code",
   "execution_count": 98,
   "metadata": {},
   "outputs": [
    {
     "data": {
      "text/plain": [
       "Ttest_indResult(statistic=-140.07202111832603, pvalue=0.0)"
      ]
     },
     "execution_count": 98,
     "metadata": {},
     "output_type": "execute_result"
    },
    {
     "data": {
      "image/png": "[encoded data removed]",
      "text/plain": [
       "<matplotlib.figure.Figure at 0x1199524e0>"
      ]
     },
     "metadata": {},
     "output_type": "display_data"
    }
   ],
   "source": [
    "# Looks like \"over\" posts have slightly higher minutes, and this difference is significant.\n",
    "ax = plt.figure(figsize=(10,5))\n",
    "ax = sns.boxplot(x='over_under', y='minutes', data=data)\n",
    "ax.set(ylabel='Minutes', xlabel='Popoularity', title='Popular posts have been longer than 9 hours')\n",
    "plt.axhline(y=547, color='r');\n",
    "stats.ttest_ind(data['over_under'], data['minutes'])"
   ]
  },
  {
   "cell_type": "code",
   "execution_count": 107,
   "metadata": {},
   "outputs": [
    {
     "data": {
      "text/plain": [
       "Ttest_indResult(statistic=-81.655243536182738, pvalue=0.0)"
      ]
     },
     "execution_count": 107,
     "metadata": {},
     "output_type": "execute_result"
    },
    {
     "data": {
      "image/png": "[encoded data removed]",
      "text/plain": [
       "<matplotlib.figure.Figure at 0x119ea8e80>"
      ]
     },
     "metadata": {},
     "output_type": "display_data"
    }
   ],
   "source": [
    "# Looks like \"over\" posts have slightly higher title lengths, and this difference is significant, too.\n",
    "ax = plt.figure(figsize=(8,8))\n",
    "ax=sns.boxplot(x='over_under', y='length', data=data[data['length']<190])\n",
    "ax.set(ylabel='Length of Post (Characters)', xlabel='Popoularity', title='Popular posts tend to be a little longer')\n",
    "stats.ttest_ind(data['over_under'], data['length'])"
   ]
  },
  {
   "cell_type": "code",
   "execution_count": 45,
   "metadata": {},
   "outputs": [
    {
     "data": {
      "image/png": "[encoded data removed]",
      "text/plain": [
       "<matplotlib.figure.Figure at 0x11aad1a90>"
      ]
     },
     "metadata": {},
     "output_type": "display_data"
    }
   ],
   "source": [
    "# How about with the type of subreddits? Yep.\n",
    "sns.barplot(x='over_under', y='which_sub', data=data);"
   ]
  },
  {
   "cell_type": "markdown",
   "metadata": {},
   "source": [
    "## Save dataset for the next jupyter notebook"
   ]
  },
  {
   "cell_type": "code",
   "execution_count": 46,
   "metadata": {},
   "outputs": [
    {
     "data": {
      "text/html": [
       "<div>\n",
       "<style>\n",
       "    .dataframe thead tr:only-child th {\n",
       "        text-align: right;\n",
       "    }\n",
       "\n",
       "    .dataframe thead th {\n",
       "        text-align: left;\n",
       "    }\n",
       "\n",
       "    .dataframe tbody tr th {\n",
       "        vertical-align: top;\n",
       "    }\n",
       "</style>\n",
       "<table border=\"1\" class=\"dataframe\">\n",
       "  <thead>\n",
       "    <tr style=\"text-align: right;\">\n",
       "      <th></th>\n",
       "      <th>title</th>\n",
       "      <th>subreddit</th>\n",
       "      <th>comments</th>\n",
       "      <th>minutes</th>\n",
       "      <th>which_sub</th>\n",
       "      <th>AskReddit</th>\n",
       "      <th>big4</th>\n",
       "      <th>others</th>\n",
       "      <th>length</th>\n",
       "      <th>over_under</th>\n",
       "    </tr>\n",
       "  </thead>\n",
       "  <tbody>\n",
       "    <tr>\n",
       "      <th>0</th>\n",
       "      <td>\"@thebigjamesg: what kind of president doesn't...</td>\n",
       "      <td>TrumpCriticizesTrump</td>\n",
       "      <td>205</td>\n",
       "      <td>720</td>\n",
       "      <td>others</td>\n",
       "      <td>0</td>\n",
       "      <td>0</td>\n",
       "      <td>1</td>\n",
       "      <td>160</td>\n",
       "      <td>1</td>\n",
       "    </tr>\n",
       "    <tr>\n",
       "      <th>1</th>\n",
       "      <td>\"alright pinchy, my little bucket of badness, ...</td>\n",
       "      <td>lego</td>\n",
       "      <td>122</td>\n",
       "      <td>960</td>\n",
       "      <td>others</td>\n",
       "      <td>0</td>\n",
       "      <td>0</td>\n",
       "      <td>1</td>\n",
       "      <td>113</td>\n",
       "      <td>1</td>\n",
       "    </tr>\n",
       "    <tr>\n",
       "      <th>2</th>\n",
       "      <td>\"are you my dad?\"</td>\n",
       "      <td>aww</td>\n",
       "      <td>10</td>\n",
       "      <td>120</td>\n",
       "      <td>others</td>\n",
       "      <td>0</td>\n",
       "      <td>0</td>\n",
       "      <td>1</td>\n",
       "      <td>17</td>\n",
       "      <td>0</td>\n",
       "    </tr>\n",
       "    <tr>\n",
       "      <th>3</th>\n",
       "      <td>\"behold a pale horse\" book from 1991, by bill ...</td>\n",
       "      <td>CBTS_Stream</td>\n",
       "      <td>4</td>\n",
       "      <td>180</td>\n",
       "      <td>others</td>\n",
       "      <td>0</td>\n",
       "      <td>0</td>\n",
       "      <td>1</td>\n",
       "      <td>149</td>\n",
       "      <td>0</td>\n",
       "    </tr>\n",
       "    <tr>\n",
       "      <th>4</th>\n",
       "      <td>\"can i have a 5p bag with that?\". \"sorry, we o...</td>\n",
       "      <td>britishproblems</td>\n",
       "      <td>366</td>\n",
       "      <td>660</td>\n",
       "      <td>others</td>\n",
       "      <td>0</td>\n",
       "      <td>0</td>\n",
       "      <td>1</td>\n",
       "      <td>138</td>\n",
       "      <td>1</td>\n",
       "    </tr>\n",
       "  </tbody>\n",
       "</table>\n",
       "</div>"
      ],
      "text/plain": [
       "                                               title             subreddit  \\\n",
       "0  \"@thebigjamesg: what kind of president doesn't...  TrumpCriticizesTrump   \n",
       "1  \"alright pinchy, my little bucket of badness, ...                  lego   \n",
       "2                                  \"are you my dad?\"                   aww   \n",
       "3  \"behold a pale horse\" book from 1991, by bill ...           CBTS_Stream   \n",
       "4  \"can i have a 5p bag with that?\". \"sorry, we o...       britishproblems   \n",
       "\n",
       "   comments  minutes which_sub  AskReddit  big4  others  length  over_under  \n",
       "0       205      720    others          0     0       1     160           1  \n",
       "1       122      960    others          0     0       1     113           1  \n",
       "2        10      120    others          0     0       1      17           0  \n",
       "3         4      180    others          0     0       1     149           0  \n",
       "4       366      660    others          0     0       1     138           1  "
      ]
     },
     "execution_count": 46,
     "metadata": {},
     "output_type": "execute_result"
    }
   ],
   "source": [
    "data.head()"
   ]
  },
  {
   "cell_type": "code",
   "execution_count": 47,
   "metadata": {
    "collapsed": true
   },
   "outputs": [],
   "source": [
    "# Save the cleaned, engineered data\n",
    "data.to_csv(dirname + 'clean_data.csv', index=False)"
   ]
  }
 ],
 "metadata": {
  "kernelspec": {
   "display_name": "Python 3",
   "language": "python",
   "name": "python3"
  },
  "language_info": {
   "codemirror_mode": {
    "name": "ipython",
    "version": 3
   },
   "file_extension": ".py",
   "mimetype": "text/x-python",
   "name": "python",
   "nbconvert_exporter": "python",
   "pygments_lexer": "ipython3",
   "version": "3.6.3"
  }
 },
 "nbformat": 4,
 "nbformat_minor": 2
}
